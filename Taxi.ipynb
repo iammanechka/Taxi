{
 "cells": [
  {
   "cell_type": "markdown",
   "metadata": {
    "toc": true
   },
   "source": [
    "<h1>Содержание<span class=\"tocSkip\"></span></h1>\n",
    "<div class=\"toc\"><ul class=\"toc-item\"><li><ul class=\"toc-item\"><li><ul class=\"toc-item\"><li><span><a href=\"#Полезные-ссылки:\" data-toc-modified-id=\"Полезные-ссылки:-0.0.1\"><span class=\"toc-item-num\">0.0.1&nbsp;&nbsp;</span><font color=\"orange\">Полезные ссылки:</font></a></span></li></ul></li><li><span><a href=\"#Общее-впечатление\" data-toc-modified-id=\"Общее-впечатление-0.1\"><span class=\"toc-item-num\">0.1&nbsp;&nbsp;</span><font color=\"orange\">Общее впечатление</font></a></span></li><li><span><a href=\"#Общее-впечатление-(ревью-2)\" data-toc-modified-id=\"Общее-впечатление-(ревью-2)-0.2\"><span class=\"toc-item-num\">0.2&nbsp;&nbsp;</span><font color=\"orange\">Общее впечатление (ревью 2)</font></a></span></li></ul></li><li><span><a href=\"#Подготовка\" data-toc-modified-id=\"Подготовка-1\"><span class=\"toc-item-num\">1&nbsp;&nbsp;</span>Подготовка</a></span></li><li><span><a href=\"#Анализ\" data-toc-modified-id=\"Анализ-2\"><span class=\"toc-item-num\">2&nbsp;&nbsp;</span>Анализ</a></span></li><li><span><a href=\"#Обучение\" data-toc-modified-id=\"Обучение-3\"><span class=\"toc-item-num\">3&nbsp;&nbsp;</span>Обучение</a></span></li><li><span><a href=\"#Тестирование\" data-toc-modified-id=\"Тестирование-4\"><span class=\"toc-item-num\">4&nbsp;&nbsp;</span>Тестирование</a></span></li><li><span><a href=\"#Чек-лист-проверки\" data-toc-modified-id=\"Чек-лист-проверки-5\"><span class=\"toc-item-num\">5&nbsp;&nbsp;</span>Чек-лист проверки</a></span></li></ul></div>"
   ]
  },
  {
   "cell_type": "markdown",
   "metadata": {},
   "source": [
    "#  Прогнозирование заказов такси"
   ]
  },
  {
   "cell_type": "markdown",
   "metadata": {},
   "source": [
    "Компания «Чётенькое такси» собрала исторические данные о заказах такси в аэропортах. Чтобы привлекать больше водителей в период пиковой нагрузки, нужно спрогнозировать количество заказов такси на следующий час. Постройте модель для такого предсказания.\n",
    "\n",
    "Значение метрики *RMSE* на тестовой выборке должно быть не больше 48.\n",
    "\n",
    "Вам нужно:\n",
    "\n",
    "1. Загрузить данные и выполнить их ресемплирование по одному часу.\n",
    "2. Проанализировать данные.\n",
    "3. Обучить разные модели с различными гиперпараметрами. Сделать тестовую выборку размером 10% от исходных данных.\n",
    "4. Проверить данные на тестовой выборке и сделать выводы.\n",
    "\n",
    "\n",
    "Данные лежат в файле `taxi.csv`. Количество заказов находится в столбце `num_orders` (от англ. *number of orders*, «число заказов»)."
   ]
  },
  {
   "cell_type": "markdown",
   "metadata": {},
   "source": [
    "## Подготовка"
   ]
  },
  {
   "cell_type": "code",
   "execution_count": 1,
   "metadata": {},
   "outputs": [],
   "source": [
    "#Загружаем нужные библиотеки\n",
    "\n",
    "import matplotlib.pyplot as plt\n",
    "import seaborn as sns\n",
    "import numpy as np\n",
    "import pandas as pd\n",
    "\n",
    "from sklearn.ensemble import RandomForestRegressor\n",
    "from sklearn.linear_model import LinearRegression\n",
    "from sklearn.dummy import DummyRegressor\n",
    "\n",
    "\n",
    "from sklearn.model_selection import train_test_split, cross_val_score, GridSearchCV, TimeSeriesSplit \n",
    "from sklearn.metrics import mean_squared_error, make_scorer\n",
    "from statsmodels.tsa.seasonal import seasonal_decompose\n",
    "\n",
    "from catboost import CatBoostRegressor\n",
    "from lightgbm import LGBMRegressor\n",
    "import lightgbm as lgb\n",
    "import warnings\n",
    "warnings.filterwarnings('ignore')\n",
    "\n",
    "RANDOM_STATE = 12345"
   ]
  },
  {
   "cell_type": "code",
   "execution_count": 2,
   "metadata": {},
   "outputs": [],
   "source": [
    "#Загружаем данные\n",
    "\n",
    "data = pd.read_csv('/datasets/taxi.csv', parse_dates=[0], index_col='datetime')"
   ]
  },
  {
   "cell_type": "code",
   "execution_count": 3,
   "metadata": {
    "scrolled": true
   },
   "outputs": [
    {
     "data": {
      "text/html": [
       "<div>\n",
       "<style scoped>\n",
       "    .dataframe tbody tr th:only-of-type {\n",
       "        vertical-align: middle;\n",
       "    }\n",
       "\n",
       "    .dataframe tbody tr th {\n",
       "        vertical-align: top;\n",
       "    }\n",
       "\n",
       "    .dataframe thead th {\n",
       "        text-align: right;\n",
       "    }\n",
       "</style>\n",
       "<table border=\"1\" class=\"dataframe\">\n",
       "  <thead>\n",
       "    <tr style=\"text-align: right;\">\n",
       "      <th></th>\n",
       "      <th>num_orders</th>\n",
       "    </tr>\n",
       "    <tr>\n",
       "      <th>datetime</th>\n",
       "      <th></th>\n",
       "    </tr>\n",
       "  </thead>\n",
       "  <tbody>\n",
       "    <tr>\n",
       "      <th>2018-03-01 00:00:00</th>\n",
       "      <td>9</td>\n",
       "    </tr>\n",
       "    <tr>\n",
       "      <th>2018-03-01 00:10:00</th>\n",
       "      <td>14</td>\n",
       "    </tr>\n",
       "    <tr>\n",
       "      <th>2018-03-01 00:20:00</th>\n",
       "      <td>28</td>\n",
       "    </tr>\n",
       "    <tr>\n",
       "      <th>2018-03-01 00:30:00</th>\n",
       "      <td>20</td>\n",
       "    </tr>\n",
       "    <tr>\n",
       "      <th>2018-03-01 00:40:00</th>\n",
       "      <td>32</td>\n",
       "    </tr>\n",
       "    <tr>\n",
       "      <th>...</th>\n",
       "      <td>...</td>\n",
       "    </tr>\n",
       "    <tr>\n",
       "      <th>2018-08-31 23:10:00</th>\n",
       "      <td>32</td>\n",
       "    </tr>\n",
       "    <tr>\n",
       "      <th>2018-08-31 23:20:00</th>\n",
       "      <td>24</td>\n",
       "    </tr>\n",
       "    <tr>\n",
       "      <th>2018-08-31 23:30:00</th>\n",
       "      <td>27</td>\n",
       "    </tr>\n",
       "    <tr>\n",
       "      <th>2018-08-31 23:40:00</th>\n",
       "      <td>39</td>\n",
       "    </tr>\n",
       "    <tr>\n",
       "      <th>2018-08-31 23:50:00</th>\n",
       "      <td>53</td>\n",
       "    </tr>\n",
       "  </tbody>\n",
       "</table>\n",
       "<p>26496 rows × 1 columns</p>\n",
       "</div>"
      ],
      "text/plain": [
       "                     num_orders\n",
       "datetime                       \n",
       "2018-03-01 00:00:00           9\n",
       "2018-03-01 00:10:00          14\n",
       "2018-03-01 00:20:00          28\n",
       "2018-03-01 00:30:00          20\n",
       "2018-03-01 00:40:00          32\n",
       "...                         ...\n",
       "2018-08-31 23:10:00          32\n",
       "2018-08-31 23:20:00          24\n",
       "2018-08-31 23:30:00          27\n",
       "2018-08-31 23:40:00          39\n",
       "2018-08-31 23:50:00          53\n",
       "\n",
       "[26496 rows x 1 columns]"
      ]
     },
     "metadata": {},
     "output_type": "display_data"
    }
   ],
   "source": [
    "#Посмотрим на данные\n",
    "\n",
    "display(data)"
   ]
  },
  {
   "cell_type": "code",
   "execution_count": 4,
   "metadata": {
    "scrolled": true
   },
   "outputs": [
    {
     "data": {
      "image/png": "[encoded data removed]",
      "text/plain": [
       "<Figure size 432x288 with 1 Axes>"
      ]
     },
     "metadata": {
      "needs_background": "light"
     },
     "output_type": "display_data"
    }
   ],
   "source": [
    "#Ресемпелирование по одному часу\n",
    "\n",
    "data = data.resample('1H').sum() \n",
    "data.plot(color = '#D8BFD8')\n",
    "plt.title('Временной ряд заказов такси')\n",
    "plt.xlabel('Дата заказа', )\n",
    "plt.ylabel('Количество заказов');"
   ]
  },
  {
   "cell_type": "markdown",
   "metadata": {},
   "source": [
    "Можем заметить положительную динамику в заказах, под конец августа спрос значительно вырос. "
   ]
  },
  {
   "cell_type": "code",
   "execution_count": 5,
   "metadata": {},
   "outputs": [
    {
     "name": "stdout",
     "output_type": "stream",
     "text": [
      "True\n"
     ]
    }
   ],
   "source": [
    "#Посмотрим на хронологию данных\n",
    "\n",
    "print(data.index.is_monotonic)"
   ]
  },
  {
   "cell_type": "markdown",
   "metadata": {},
   "source": [
    "Данные в хронологическом порядке. Приступим к анализу."
   ]
  },
  {
   "cell_type": "markdown",
   "metadata": {},
   "source": [
    "## Анализ"
   ]
  },
  {
   "cell_type": "code",
   "execution_count": 6,
   "metadata": {
    "scrolled": false
   },
   "outputs": [
    {
     "data": {
      "text/html": [
       "<div>\n",
       "<style scoped>\n",
       "    .dataframe tbody tr th:only-of-type {\n",
       "        vertical-align: middle;\n",
       "    }\n",
       "\n",
       "    .dataframe tbody tr th {\n",
       "        vertical-align: top;\n",
       "    }\n",
       "\n",
       "    .dataframe thead th {\n",
       "        text-align: right;\n",
       "    }\n",
       "</style>\n",
       "<table border=\"1\" class=\"dataframe\">\n",
       "  <thead>\n",
       "    <tr style=\"text-align: right;\">\n",
       "      <th></th>\n",
       "      <th>num_orders</th>\n",
       "    </tr>\n",
       "  </thead>\n",
       "  <tbody>\n",
       "    <tr>\n",
       "      <th>count</th>\n",
       "      <td>4416.000000</td>\n",
       "    </tr>\n",
       "    <tr>\n",
       "      <th>mean</th>\n",
       "      <td>84.422781</td>\n",
       "    </tr>\n",
       "    <tr>\n",
       "      <th>std</th>\n",
       "      <td>45.023853</td>\n",
       "    </tr>\n",
       "    <tr>\n",
       "      <th>min</th>\n",
       "      <td>0.000000</td>\n",
       "    </tr>\n",
       "    <tr>\n",
       "      <th>25%</th>\n",
       "      <td>54.000000</td>\n",
       "    </tr>\n",
       "    <tr>\n",
       "      <th>50%</th>\n",
       "      <td>78.000000</td>\n",
       "    </tr>\n",
       "    <tr>\n",
       "      <th>75%</th>\n",
       "      <td>107.000000</td>\n",
       "    </tr>\n",
       "    <tr>\n",
       "      <th>max</th>\n",
       "      <td>462.000000</td>\n",
       "    </tr>\n",
       "  </tbody>\n",
       "</table>\n",
       "</div>"
      ],
      "text/plain": [
       "        num_orders\n",
       "count  4416.000000\n",
       "mean     84.422781\n",
       "std      45.023853\n",
       "min       0.000000\n",
       "25%      54.000000\n",
       "50%      78.000000\n",
       "75%     107.000000\n",
       "max     462.000000"
      ]
     },
     "execution_count": 6,
     "metadata": {},
     "output_type": "execute_result"
    }
   ],
   "source": [
    "data.describe()"
   ]
  },
  {
   "cell_type": "markdown",
   "metadata": {},
   "source": [
    "В среднем за час поступает 84 заказа. Минимальное количество заказов за час 0, максимальное количество 462. "
   ]
  },
  {
   "cell_type": "code",
   "execution_count": 7,
   "metadata": {
    "scrolled": true
   },
   "outputs": [
    {
     "name": "stdout",
     "output_type": "stream",
     "text": [
      "Начало сбора данных: 2018-03-01 00:00:00\n",
      "Окончание сбора данных: 2018-08-31 23:00:00\n"
     ]
    }
   ],
   "source": [
    "print('Начало сбора данных:', data.index.min())\n",
    "print('Окончание сбора данных:', data.index.max())"
   ]
  },
  {
   "cell_type": "markdown",
   "metadata": {},
   "source": [
    "Данные собраны за полгода."
   ]
  },
  {
   "cell_type": "code",
   "execution_count": 8,
   "metadata": {},
   "outputs": [],
   "source": [
    "#Разобьем временной ряд на три составляющие: тренд, сезонность и остаток\n",
    "\n",
    "decomposed = seasonal_decompose(data) "
   ]
  },
  {
   "cell_type": "code",
   "execution_count": 9,
   "metadata": {},
   "outputs": [
    {
     "data": {
      "image/png": "[encoded data removed]",
      "text/plain": [
       "<Figure size 1296x720 with 1 Axes>"
      ]
     },
     "metadata": {
      "needs_background": "light"
     },
     "output_type": "display_data"
    }
   ],
   "source": [
    "#Посмотрим на тренд заказа такси\n",
    "\n",
    "decomposed.trend.plot(figsize=(18,10), color = '#D8BFD8')\n",
    "plt.title('Временной ряд заказов такси')\n",
    "plt.xlabel('Дата заказа', )\n",
    "plt.ylabel('Количество заказов');"
   ]
  },
  {
   "cell_type": "code",
   "execution_count": 10,
   "metadata": {},
   "outputs": [
    {
     "data": {
      "image/png": "[encoded data removed]",
      "text/plain": [
       "<Figure size 1296x720 with 1 Axes>"
      ]
     },
     "metadata": {
      "needs_background": "light"
     },
     "output_type": "display_data"
    }
   ],
   "source": [
    "#Посмотрим на сезонность заказа такси\n",
    "\n",
    "decomposed.seasonal.plot(figsize=(18,10), color = '#D8BFD8')\n",
    "plt.title('Временной ряд заказов такси')\n",
    "plt.xlabel('Дата заказа', )\n",
    "plt.ylabel('Количество заказов');"
   ]
  },
  {
   "cell_type": "code",
   "execution_count": 11,
   "metadata": {
    "scrolled": true
   },
   "outputs": [
    {
     "data": {
      "image/png": "[encoded data removed]",
      "text/plain": [
       "<Figure size 1296x720 with 1 Axes>"
      ]
     },
     "metadata": {
      "needs_background": "light"
     },
     "output_type": "display_data"
    }
   ],
   "source": [
    "#Посмотрим на остаток декомпозиции заказа такси\n",
    "\n",
    "decomposed.resid.plot(figsize=(18,10), color = '#D8BFD8')\n",
    "plt.title('Временной ряд заказов такси')\n",
    "plt.xlabel('Дата заказа', )\n",
    "plt.ylabel('Количество заказов');"
   ]
  },
  {
   "cell_type": "markdown",
   "metadata": {},
   "source": [
    "Можем заметить пиковую активность в конце августа. Сократим временной диапозон, декомпозируем данные с 20 августа по 31 августа."
   ]
  },
  {
   "cell_type": "code",
   "execution_count": 12,
   "metadata": {},
   "outputs": [],
   "source": [
    "#Разобьем временной ряд на три составляющие: тренд, сезонность и остаток\n",
    "\n",
    "decomposed = seasonal_decompose(data['2018-08-20':'2018-08-31'])"
   ]
  },
  {
   "cell_type": "code",
   "execution_count": 13,
   "metadata": {
    "scrolled": false
   },
   "outputs": [
    {
     "data": {
      "image/png": "[encoded data removed]",
      "text/plain": [
       "<Figure size 1296x720 with 1 Axes>"
      ]
     },
     "metadata": {
      "needs_background": "light"
     },
     "output_type": "display_data"
    }
   ],
   "source": [
    "#Посмотрим на тренд заказа такси\n",
    "\n",
    "decomposed.trend.plot(figsize=(18,10), color = '#D8BFD8')\n",
    "plt.title('Временной ряд заказов такси')\n",
    "plt.xlabel('Дата заказа', )\n",
    "plt.ylabel('Количество заказов');"
   ]
  },
  {
   "cell_type": "markdown",
   "metadata": {},
   "source": [
    "Можем увидеть тренд на повышение спроса заказа такси."
   ]
  },
  {
   "cell_type": "code",
   "execution_count": 14,
   "metadata": {
    "scrolled": true
   },
   "outputs": [
    {
     "data": {
      "image/png": "[encoded data removed]",
      "text/plain": [
       "<Figure size 1296x720 with 1 Axes>"
      ]
     },
     "metadata": {
      "needs_background": "light"
     },
     "output_type": "display_data"
    }
   ],
   "source": [
    "#Посмотрим на сезоннсость заказа такси\n",
    "\n",
    "decomposed.seasonal.plot(figsize=(18,10), color = '#D8BFD8')\n",
    "plt.title('Временной ряд заказов такси')\n",
    "plt.xlabel('Дата заказа', )\n",
    "plt.ylabel('Количество заказов');"
   ]
  },
  {
   "cell_type": "code",
   "execution_count": 15,
   "metadata": {
    "scrolled": true
   },
   "outputs": [
    {
     "data": {
      "image/png": "[encoded data removed]",
      "text/plain": [
       "<Figure size 1296x720 with 1 Axes>"
      ]
     },
     "metadata": {
      "needs_background": "light"
     },
     "output_type": "display_data"
    }
   ],
   "source": [
    "#Посмотрим на остаток декомпозиции заказа такси\n",
    "\n",
    "decomposed.resid.plot(figsize=(18,10), color = '#D8BFD8')\n",
    "plt.title('Временной ряд заказов такси')\n",
    "plt.xlabel('Дата заказа', )\n",
    "plt.ylabel('Количество заказов');"
   ]
  },
  {
   "cell_type": "code",
   "execution_count": 16,
   "metadata": {
    "scrolled": false
   },
   "outputs": [
    {
     "data": {
      "image/png": "[encoded data removed]",
      "text/plain": [
       "<Figure size 1296x720 with 1 Axes>"
      ]
     },
     "metadata": {
      "needs_background": "light"
     },
     "output_type": "display_data"
    }
   ],
   "source": [
    "#Посмотрим на среднее и стандартное скользящие\n",
    "\n",
    "data_shift = data - data.shift()\n",
    "\n",
    "data_shift['mean'] = data['num_orders'].rolling(30).mean()\n",
    "data_shift['std'] = data['num_orders'].rolling(30).std()\n",
    "\n",
    "data_shift.plot(figsize=(18,10))\n",
    "plt.title('Временной ряд заказов такси')\n",
    "plt.xlabel('Дата заказа', )\n",
    "plt.ylabel('Количество заказов');"
   ]
  },
  {
   "cell_type": "markdown",
   "metadata": {},
   "source": [
    "# Вывод\n",
    "\n",
    "Имеется тренд к увеличению заказов такси, его можно связать с ростом компании. Сезонность присутствует, но только посуточная. Можем наблюдать маленькую активность заказов с утра и ночью, которая сменяется пиковой активностью в вечернее время. Но подобное может быть из-за графиков вылета-прилета аэропорта. "
   ]
  },
  {
   "cell_type": "markdown",
   "metadata": {},
   "source": [
    "Создадим признаки для обучения модели. Будем исходить из того, что есть суточная сезонность, то есть max_lag = 24."
   ]
  },
  {
   "cell_type": "code",
   "execution_count": 17,
   "metadata": {},
   "outputs": [],
   "source": [
    "#Создадим функцию, блягодаря которой у нас появятся новые признаки\n",
    "\n",
    "def make_features(data, max_lag, rolling_size):\n",
    "    data['hour'] = data.index.hour\n",
    "    for lag in range(1, max_lag + 1):\n",
    "        data['lag_{}'.format(lag)] = data['num_orders'].shift(lag)\n",
    "    data['rolling_mean'] = data['num_orders'].shift().rolling(rolling_size).mean()"
   ]
  },
  {
   "cell_type": "code",
   "execution_count": 18,
   "metadata": {},
   "outputs": [
    {
     "data": {
      "text/html": [
       "<div>\n",
       "<style scoped>\n",
       "    .dataframe tbody tr th:only-of-type {\n",
       "        vertical-align: middle;\n",
       "    }\n",
       "\n",
       "    .dataframe tbody tr th {\n",
       "        vertical-align: top;\n",
       "    }\n",
       "\n",
       "    .dataframe thead th {\n",
       "        text-align: right;\n",
       "    }\n",
       "</style>\n",
       "<table border=\"1\" class=\"dataframe\">\n",
       "  <thead>\n",
       "    <tr style=\"text-align: right;\">\n",
       "      <th></th>\n",
       "      <th>num_orders</th>\n",
       "      <th>hour</th>\n",
       "      <th>lag_1</th>\n",
       "      <th>lag_2</th>\n",
       "      <th>lag_3</th>\n",
       "      <th>lag_4</th>\n",
       "      <th>lag_5</th>\n",
       "      <th>lag_6</th>\n",
       "      <th>lag_7</th>\n",
       "      <th>lag_8</th>\n",
       "      <th>...</th>\n",
       "      <th>lag_16</th>\n",
       "      <th>lag_17</th>\n",
       "      <th>lag_18</th>\n",
       "      <th>lag_19</th>\n",
       "      <th>lag_20</th>\n",
       "      <th>lag_21</th>\n",
       "      <th>lag_22</th>\n",
       "      <th>lag_23</th>\n",
       "      <th>lag_24</th>\n",
       "      <th>rolling_mean</th>\n",
       "    </tr>\n",
       "    <tr>\n",
       "      <th>datetime</th>\n",
       "      <th></th>\n",
       "      <th></th>\n",
       "      <th></th>\n",
       "      <th></th>\n",
       "      <th></th>\n",
       "      <th></th>\n",
       "      <th></th>\n",
       "      <th></th>\n",
       "      <th></th>\n",
       "      <th></th>\n",
       "      <th></th>\n",
       "      <th></th>\n",
       "      <th></th>\n",
       "      <th></th>\n",
       "      <th></th>\n",
       "      <th></th>\n",
       "      <th></th>\n",
       "      <th></th>\n",
       "      <th></th>\n",
       "      <th></th>\n",
       "      <th></th>\n",
       "    </tr>\n",
       "  </thead>\n",
       "  <tbody>\n",
       "    <tr>\n",
       "      <th>2018-03-01 00:00:00</th>\n",
       "      <td>124</td>\n",
       "      <td>0</td>\n",
       "      <td>NaN</td>\n",
       "      <td>NaN</td>\n",
       "      <td>NaN</td>\n",
       "      <td>NaN</td>\n",
       "      <td>NaN</td>\n",
       "      <td>NaN</td>\n",
       "      <td>NaN</td>\n",
       "      <td>NaN</td>\n",
       "      <td>...</td>\n",
       "      <td>NaN</td>\n",
       "      <td>NaN</td>\n",
       "      <td>NaN</td>\n",
       "      <td>NaN</td>\n",
       "      <td>NaN</td>\n",
       "      <td>NaN</td>\n",
       "      <td>NaN</td>\n",
       "      <td>NaN</td>\n",
       "      <td>NaN</td>\n",
       "      <td>NaN</td>\n",
       "    </tr>\n",
       "    <tr>\n",
       "      <th>2018-03-01 01:00:00</th>\n",
       "      <td>85</td>\n",
       "      <td>1</td>\n",
       "      <td>124.0</td>\n",
       "      <td>NaN</td>\n",
       "      <td>NaN</td>\n",
       "      <td>NaN</td>\n",
       "      <td>NaN</td>\n",
       "      <td>NaN</td>\n",
       "      <td>NaN</td>\n",
       "      <td>NaN</td>\n",
       "      <td>...</td>\n",
       "      <td>NaN</td>\n",
       "      <td>NaN</td>\n",
       "      <td>NaN</td>\n",
       "      <td>NaN</td>\n",
       "      <td>NaN</td>\n",
       "      <td>NaN</td>\n",
       "      <td>NaN</td>\n",
       "      <td>NaN</td>\n",
       "      <td>NaN</td>\n",
       "      <td>NaN</td>\n",
       "    </tr>\n",
       "    <tr>\n",
       "      <th>2018-03-01 02:00:00</th>\n",
       "      <td>71</td>\n",
       "      <td>2</td>\n",
       "      <td>85.0</td>\n",
       "      <td>124.0</td>\n",
       "      <td>NaN</td>\n",
       "      <td>NaN</td>\n",
       "      <td>NaN</td>\n",
       "      <td>NaN</td>\n",
       "      <td>NaN</td>\n",
       "      <td>NaN</td>\n",
       "      <td>...</td>\n",
       "      <td>NaN</td>\n",
       "      <td>NaN</td>\n",
       "      <td>NaN</td>\n",
       "      <td>NaN</td>\n",
       "      <td>NaN</td>\n",
       "      <td>NaN</td>\n",
       "      <td>NaN</td>\n",
       "      <td>NaN</td>\n",
       "      <td>NaN</td>\n",
       "      <td>NaN</td>\n",
       "    </tr>\n",
       "    <tr>\n",
       "      <th>2018-03-01 03:00:00</th>\n",
       "      <td>66</td>\n",
       "      <td>3</td>\n",
       "      <td>71.0</td>\n",
       "      <td>85.0</td>\n",
       "      <td>124.0</td>\n",
       "      <td>NaN</td>\n",
       "      <td>NaN</td>\n",
       "      <td>NaN</td>\n",
       "      <td>NaN</td>\n",
       "      <td>NaN</td>\n",
       "      <td>...</td>\n",
       "      <td>NaN</td>\n",
       "      <td>NaN</td>\n",
       "      <td>NaN</td>\n",
       "      <td>NaN</td>\n",
       "      <td>NaN</td>\n",
       "      <td>NaN</td>\n",
       "      <td>NaN</td>\n",
       "      <td>NaN</td>\n",
       "      <td>NaN</td>\n",
       "      <td>NaN</td>\n",
       "    </tr>\n",
       "    <tr>\n",
       "      <th>2018-03-01 04:00:00</th>\n",
       "      <td>43</td>\n",
       "      <td>4</td>\n",
       "      <td>66.0</td>\n",
       "      <td>71.0</td>\n",
       "      <td>85.0</td>\n",
       "      <td>124.0</td>\n",
       "      <td>NaN</td>\n",
       "      <td>NaN</td>\n",
       "      <td>NaN</td>\n",
       "      <td>NaN</td>\n",
       "      <td>...</td>\n",
       "      <td>NaN</td>\n",
       "      <td>NaN</td>\n",
       "      <td>NaN</td>\n",
       "      <td>NaN</td>\n",
       "      <td>NaN</td>\n",
       "      <td>NaN</td>\n",
       "      <td>NaN</td>\n",
       "      <td>NaN</td>\n",
       "      <td>NaN</td>\n",
       "      <td>NaN</td>\n",
       "    </tr>\n",
       "    <tr>\n",
       "      <th>2018-03-01 05:00:00</th>\n",
       "      <td>6</td>\n",
       "      <td>5</td>\n",
       "      <td>43.0</td>\n",
       "      <td>66.0</td>\n",
       "      <td>71.0</td>\n",
       "      <td>85.0</td>\n",
       "      <td>124.0</td>\n",
       "      <td>NaN</td>\n",
       "      <td>NaN</td>\n",
       "      <td>NaN</td>\n",
       "      <td>...</td>\n",
       "      <td>NaN</td>\n",
       "      <td>NaN</td>\n",
       "      <td>NaN</td>\n",
       "      <td>NaN</td>\n",
       "      <td>NaN</td>\n",
       "      <td>NaN</td>\n",
       "      <td>NaN</td>\n",
       "      <td>NaN</td>\n",
       "      <td>NaN</td>\n",
       "      <td>NaN</td>\n",
       "    </tr>\n",
       "    <tr>\n",
       "      <th>2018-03-01 06:00:00</th>\n",
       "      <td>12</td>\n",
       "      <td>6</td>\n",
       "      <td>6.0</td>\n",
       "      <td>43.0</td>\n",
       "      <td>66.0</td>\n",
       "      <td>71.0</td>\n",
       "      <td>85.0</td>\n",
       "      <td>124.0</td>\n",
       "      <td>NaN</td>\n",
       "      <td>NaN</td>\n",
       "      <td>...</td>\n",
       "      <td>NaN</td>\n",
       "      <td>NaN</td>\n",
       "      <td>NaN</td>\n",
       "      <td>NaN</td>\n",
       "      <td>NaN</td>\n",
       "      <td>NaN</td>\n",
       "      <td>NaN</td>\n",
       "      <td>NaN</td>\n",
       "      <td>NaN</td>\n",
       "      <td>NaN</td>\n",
       "    </tr>\n",
       "    <tr>\n",
       "      <th>2018-03-01 07:00:00</th>\n",
       "      <td>15</td>\n",
       "      <td>7</td>\n",
       "      <td>12.0</td>\n",
       "      <td>6.0</td>\n",
       "      <td>43.0</td>\n",
       "      <td>66.0</td>\n",
       "      <td>71.0</td>\n",
       "      <td>85.0</td>\n",
       "      <td>124.0</td>\n",
       "      <td>NaN</td>\n",
       "      <td>...</td>\n",
       "      <td>NaN</td>\n",
       "      <td>NaN</td>\n",
       "      <td>NaN</td>\n",
       "      <td>NaN</td>\n",
       "      <td>NaN</td>\n",
       "      <td>NaN</td>\n",
       "      <td>NaN</td>\n",
       "      <td>NaN</td>\n",
       "      <td>NaN</td>\n",
       "      <td>NaN</td>\n",
       "    </tr>\n",
       "    <tr>\n",
       "      <th>2018-03-01 08:00:00</th>\n",
       "      <td>34</td>\n",
       "      <td>8</td>\n",
       "      <td>15.0</td>\n",
       "      <td>12.0</td>\n",
       "      <td>6.0</td>\n",
       "      <td>43.0</td>\n",
       "      <td>66.0</td>\n",
       "      <td>71.0</td>\n",
       "      <td>85.0</td>\n",
       "      <td>124.0</td>\n",
       "      <td>...</td>\n",
       "      <td>NaN</td>\n",
       "      <td>NaN</td>\n",
       "      <td>NaN</td>\n",
       "      <td>NaN</td>\n",
       "      <td>NaN</td>\n",
       "      <td>NaN</td>\n",
       "      <td>NaN</td>\n",
       "      <td>NaN</td>\n",
       "      <td>NaN</td>\n",
       "      <td>NaN</td>\n",
       "    </tr>\n",
       "    <tr>\n",
       "      <th>2018-03-01 09:00:00</th>\n",
       "      <td>69</td>\n",
       "      <td>9</td>\n",
       "      <td>34.0</td>\n",
       "      <td>15.0</td>\n",
       "      <td>12.0</td>\n",
       "      <td>6.0</td>\n",
       "      <td>43.0</td>\n",
       "      <td>66.0</td>\n",
       "      <td>71.0</td>\n",
       "      <td>85.0</td>\n",
       "      <td>...</td>\n",
       "      <td>NaN</td>\n",
       "      <td>NaN</td>\n",
       "      <td>NaN</td>\n",
       "      <td>NaN</td>\n",
       "      <td>NaN</td>\n",
       "      <td>NaN</td>\n",
       "      <td>NaN</td>\n",
       "      <td>NaN</td>\n",
       "      <td>NaN</td>\n",
       "      <td>NaN</td>\n",
       "    </tr>\n",
       "  </tbody>\n",
       "</table>\n",
       "<p>10 rows × 27 columns</p>\n",
       "</div>"
      ],
      "text/plain": [
       "                     num_orders  hour  lag_1  lag_2  lag_3  lag_4  lag_5  \\\n",
       "datetime                                                                   \n",
       "2018-03-01 00:00:00         124     0    NaN    NaN    NaN    NaN    NaN   \n",
       "2018-03-01 01:00:00          85     1  124.0    NaN    NaN    NaN    NaN   \n",
       "2018-03-01 02:00:00          71     2   85.0  124.0    NaN    NaN    NaN   \n",
       "2018-03-01 03:00:00          66     3   71.0   85.0  124.0    NaN    NaN   \n",
       "2018-03-01 04:00:00          43     4   66.0   71.0   85.0  124.0    NaN   \n",
       "2018-03-01 05:00:00           6     5   43.0   66.0   71.0   85.0  124.0   \n",
       "2018-03-01 06:00:00          12     6    6.0   43.0   66.0   71.0   85.0   \n",
       "2018-03-01 07:00:00          15     7   12.0    6.0   43.0   66.0   71.0   \n",
       "2018-03-01 08:00:00          34     8   15.0   12.0    6.0   43.0   66.0   \n",
       "2018-03-01 09:00:00          69     9   34.0   15.0   12.0    6.0   43.0   \n",
       "\n",
       "                     lag_6  lag_7  lag_8  ...  lag_16  lag_17  lag_18  lag_19  \\\n",
       "datetime                                  ...                                   \n",
       "2018-03-01 00:00:00    NaN    NaN    NaN  ...     NaN     NaN     NaN     NaN   \n",
       "2018-03-01 01:00:00    NaN    NaN    NaN  ...     NaN     NaN     NaN     NaN   \n",
       "2018-03-01 02:00:00    NaN    NaN    NaN  ...     NaN     NaN     NaN     NaN   \n",
       "2018-03-01 03:00:00    NaN    NaN    NaN  ...     NaN     NaN     NaN     NaN   \n",
       "2018-03-01 04:00:00    NaN    NaN    NaN  ...     NaN     NaN     NaN     NaN   \n",
       "2018-03-01 05:00:00    NaN    NaN    NaN  ...     NaN     NaN     NaN     NaN   \n",
       "2018-03-01 06:00:00  124.0    NaN    NaN  ...     NaN     NaN     NaN     NaN   \n",
       "2018-03-01 07:00:00   85.0  124.0    NaN  ...     NaN     NaN     NaN     NaN   \n",
       "2018-03-01 08:00:00   71.0   85.0  124.0  ...     NaN     NaN     NaN     NaN   \n",
       "2018-03-01 09:00:00   66.0   71.0   85.0  ...     NaN     NaN     NaN     NaN   \n",
       "\n",
       "                     lag_20  lag_21  lag_22  lag_23  lag_24  rolling_mean  \n",
       "datetime                                                                   \n",
       "2018-03-01 00:00:00     NaN     NaN     NaN     NaN     NaN           NaN  \n",
       "2018-03-01 01:00:00     NaN     NaN     NaN     NaN     NaN           NaN  \n",
       "2018-03-01 02:00:00     NaN     NaN     NaN     NaN     NaN           NaN  \n",
       "2018-03-01 03:00:00     NaN     NaN     NaN     NaN     NaN           NaN  \n",
       "2018-03-01 04:00:00     NaN     NaN     NaN     NaN     NaN           NaN  \n",
       "2018-03-01 05:00:00     NaN     NaN     NaN     NaN     NaN           NaN  \n",
       "2018-03-01 06:00:00     NaN     NaN     NaN     NaN     NaN           NaN  \n",
       "2018-03-01 07:00:00     NaN     NaN     NaN     NaN     NaN           NaN  \n",
       "2018-03-01 08:00:00     NaN     NaN     NaN     NaN     NaN           NaN  \n",
       "2018-03-01 09:00:00     NaN     NaN     NaN     NaN     NaN           NaN  \n",
       "\n",
       "[10 rows x 27 columns]"
      ]
     },
     "execution_count": 18,
     "metadata": {},
     "output_type": "execute_result"
    }
   ],
   "source": [
    "#Создадим новые признаки\n",
    "\n",
    "data_features = data.copy(deep=True)\n",
    "\n",
    "make_features(data_features, 24, 30)\n",
    "\n",
    "data_features.head(10)"
   ]
  },
  {
   "cell_type": "code",
   "execution_count": 19,
   "metadata": {},
   "outputs": [
    {
     "data": {
      "text/html": [
       "<div>\n",
       "<style scoped>\n",
       "    .dataframe tbody tr th:only-of-type {\n",
       "        vertical-align: middle;\n",
       "    }\n",
       "\n",
       "    .dataframe tbody tr th {\n",
       "        vertical-align: top;\n",
       "    }\n",
       "\n",
       "    .dataframe thead th {\n",
       "        text-align: right;\n",
       "    }\n",
       "</style>\n",
       "<table border=\"1\" class=\"dataframe\">\n",
       "  <thead>\n",
       "    <tr style=\"text-align: right;\">\n",
       "      <th></th>\n",
       "      <th>num_orders</th>\n",
       "      <th>hour</th>\n",
       "      <th>lag_1</th>\n",
       "      <th>lag_2</th>\n",
       "      <th>lag_3</th>\n",
       "      <th>lag_4</th>\n",
       "      <th>lag_5</th>\n",
       "      <th>lag_6</th>\n",
       "      <th>lag_7</th>\n",
       "      <th>lag_8</th>\n",
       "      <th>...</th>\n",
       "      <th>lag_16</th>\n",
       "      <th>lag_17</th>\n",
       "      <th>lag_18</th>\n",
       "      <th>lag_19</th>\n",
       "      <th>lag_20</th>\n",
       "      <th>lag_21</th>\n",
       "      <th>lag_22</th>\n",
       "      <th>lag_23</th>\n",
       "      <th>lag_24</th>\n",
       "      <th>rolling_mean</th>\n",
       "    </tr>\n",
       "    <tr>\n",
       "      <th>datetime</th>\n",
       "      <th></th>\n",
       "      <th></th>\n",
       "      <th></th>\n",
       "      <th></th>\n",
       "      <th></th>\n",
       "      <th></th>\n",
       "      <th></th>\n",
       "      <th></th>\n",
       "      <th></th>\n",
       "      <th></th>\n",
       "      <th></th>\n",
       "      <th></th>\n",
       "      <th></th>\n",
       "      <th></th>\n",
       "      <th></th>\n",
       "      <th></th>\n",
       "      <th></th>\n",
       "      <th></th>\n",
       "      <th></th>\n",
       "      <th></th>\n",
       "      <th></th>\n",
       "    </tr>\n",
       "  </thead>\n",
       "  <tbody>\n",
       "    <tr>\n",
       "      <th>2018-03-02 06:00:00</th>\n",
       "      <td>11</td>\n",
       "      <td>6</td>\n",
       "      <td>11.0</td>\n",
       "      <td>20.0</td>\n",
       "      <td>64.0</td>\n",
       "      <td>75.0</td>\n",
       "      <td>120.0</td>\n",
       "      <td>90.0</td>\n",
       "      <td>58.0</td>\n",
       "      <td>113.0</td>\n",
       "      <td>...</td>\n",
       "      <td>48.0</td>\n",
       "      <td>32.0</td>\n",
       "      <td>30.0</td>\n",
       "      <td>96.0</td>\n",
       "      <td>64.0</td>\n",
       "      <td>69.0</td>\n",
       "      <td>34.0</td>\n",
       "      <td>15.0</td>\n",
       "      <td>12.0</td>\n",
       "      <td>58.133333</td>\n",
       "    </tr>\n",
       "    <tr>\n",
       "      <th>2018-03-02 07:00:00</th>\n",
       "      <td>7</td>\n",
       "      <td>7</td>\n",
       "      <td>11.0</td>\n",
       "      <td>11.0</td>\n",
       "      <td>20.0</td>\n",
       "      <td>64.0</td>\n",
       "      <td>75.0</td>\n",
       "      <td>120.0</td>\n",
       "      <td>90.0</td>\n",
       "      <td>58.0</td>\n",
       "      <td>...</td>\n",
       "      <td>66.0</td>\n",
       "      <td>48.0</td>\n",
       "      <td>32.0</td>\n",
       "      <td>30.0</td>\n",
       "      <td>96.0</td>\n",
       "      <td>64.0</td>\n",
       "      <td>69.0</td>\n",
       "      <td>34.0</td>\n",
       "      <td>15.0</td>\n",
       "      <td>54.366667</td>\n",
       "    </tr>\n",
       "    <tr>\n",
       "      <th>2018-03-02 08:00:00</th>\n",
       "      <td>46</td>\n",
       "      <td>8</td>\n",
       "      <td>7.0</td>\n",
       "      <td>11.0</td>\n",
       "      <td>11.0</td>\n",
       "      <td>20.0</td>\n",
       "      <td>64.0</td>\n",
       "      <td>75.0</td>\n",
       "      <td>120.0</td>\n",
       "      <td>90.0</td>\n",
       "      <td>...</td>\n",
       "      <td>43.0</td>\n",
       "      <td>66.0</td>\n",
       "      <td>48.0</td>\n",
       "      <td>32.0</td>\n",
       "      <td>30.0</td>\n",
       "      <td>96.0</td>\n",
       "      <td>64.0</td>\n",
       "      <td>69.0</td>\n",
       "      <td>34.0</td>\n",
       "      <td>51.766667</td>\n",
       "    </tr>\n",
       "    <tr>\n",
       "      <th>2018-03-02 09:00:00</th>\n",
       "      <td>45</td>\n",
       "      <td>9</td>\n",
       "      <td>46.0</td>\n",
       "      <td>7.0</td>\n",
       "      <td>11.0</td>\n",
       "      <td>11.0</td>\n",
       "      <td>20.0</td>\n",
       "      <td>64.0</td>\n",
       "      <td>75.0</td>\n",
       "      <td>120.0</td>\n",
       "      <td>...</td>\n",
       "      <td>44.0</td>\n",
       "      <td>43.0</td>\n",
       "      <td>66.0</td>\n",
       "      <td>48.0</td>\n",
       "      <td>32.0</td>\n",
       "      <td>30.0</td>\n",
       "      <td>96.0</td>\n",
       "      <td>64.0</td>\n",
       "      <td>69.0</td>\n",
       "      <td>50.933333</td>\n",
       "    </tr>\n",
       "    <tr>\n",
       "      <th>2018-03-02 10:00:00</th>\n",
       "      <td>54</td>\n",
       "      <td>10</td>\n",
       "      <td>45.0</td>\n",
       "      <td>46.0</td>\n",
       "      <td>7.0</td>\n",
       "      <td>11.0</td>\n",
       "      <td>11.0</td>\n",
       "      <td>20.0</td>\n",
       "      <td>64.0</td>\n",
       "      <td>75.0</td>\n",
       "      <td>...</td>\n",
       "      <td>73.0</td>\n",
       "      <td>44.0</td>\n",
       "      <td>43.0</td>\n",
       "      <td>66.0</td>\n",
       "      <td>48.0</td>\n",
       "      <td>32.0</td>\n",
       "      <td>30.0</td>\n",
       "      <td>96.0</td>\n",
       "      <td>64.0</td>\n",
       "      <td>50.233333</td>\n",
       "    </tr>\n",
       "    <tr>\n",
       "      <th>2018-03-02 11:00:00</th>\n",
       "      <td>91</td>\n",
       "      <td>11</td>\n",
       "      <td>54.0</td>\n",
       "      <td>45.0</td>\n",
       "      <td>46.0</td>\n",
       "      <td>7.0</td>\n",
       "      <td>11.0</td>\n",
       "      <td>11.0</td>\n",
       "      <td>20.0</td>\n",
       "      <td>64.0</td>\n",
       "      <td>...</td>\n",
       "      <td>45.0</td>\n",
       "      <td>73.0</td>\n",
       "      <td>44.0</td>\n",
       "      <td>43.0</td>\n",
       "      <td>66.0</td>\n",
       "      <td>48.0</td>\n",
       "      <td>32.0</td>\n",
       "      <td>30.0</td>\n",
       "      <td>96.0</td>\n",
       "      <td>50.600000</td>\n",
       "    </tr>\n",
       "    <tr>\n",
       "      <th>2018-03-02 12:00:00</th>\n",
       "      <td>36</td>\n",
       "      <td>12</td>\n",
       "      <td>91.0</td>\n",
       "      <td>54.0</td>\n",
       "      <td>45.0</td>\n",
       "      <td>46.0</td>\n",
       "      <td>7.0</td>\n",
       "      <td>11.0</td>\n",
       "      <td>11.0</td>\n",
       "      <td>20.0</td>\n",
       "      <td>...</td>\n",
       "      <td>61.0</td>\n",
       "      <td>45.0</td>\n",
       "      <td>73.0</td>\n",
       "      <td>44.0</td>\n",
       "      <td>43.0</td>\n",
       "      <td>66.0</td>\n",
       "      <td>48.0</td>\n",
       "      <td>32.0</td>\n",
       "      <td>30.0</td>\n",
       "      <td>53.433333</td>\n",
       "    </tr>\n",
       "    <tr>\n",
       "      <th>2018-03-02 13:00:00</th>\n",
       "      <td>45</td>\n",
       "      <td>13</td>\n",
       "      <td>36.0</td>\n",
       "      <td>91.0</td>\n",
       "      <td>54.0</td>\n",
       "      <td>45.0</td>\n",
       "      <td>46.0</td>\n",
       "      <td>7.0</td>\n",
       "      <td>11.0</td>\n",
       "      <td>11.0</td>\n",
       "      <td>...</td>\n",
       "      <td>66.0</td>\n",
       "      <td>61.0</td>\n",
       "      <td>45.0</td>\n",
       "      <td>73.0</td>\n",
       "      <td>44.0</td>\n",
       "      <td>43.0</td>\n",
       "      <td>66.0</td>\n",
       "      <td>48.0</td>\n",
       "      <td>32.0</td>\n",
       "      <td>54.233333</td>\n",
       "    </tr>\n",
       "    <tr>\n",
       "      <th>2018-03-02 14:00:00</th>\n",
       "      <td>44</td>\n",
       "      <td>14</td>\n",
       "      <td>45.0</td>\n",
       "      <td>36.0</td>\n",
       "      <td>91.0</td>\n",
       "      <td>54.0</td>\n",
       "      <td>45.0</td>\n",
       "      <td>46.0</td>\n",
       "      <td>7.0</td>\n",
       "      <td>11.0</td>\n",
       "      <td>...</td>\n",
       "      <td>113.0</td>\n",
       "      <td>66.0</td>\n",
       "      <td>61.0</td>\n",
       "      <td>45.0</td>\n",
       "      <td>73.0</td>\n",
       "      <td>44.0</td>\n",
       "      <td>43.0</td>\n",
       "      <td>66.0</td>\n",
       "      <td>48.0</td>\n",
       "      <td>55.233333</td>\n",
       "    </tr>\n",
       "    <tr>\n",
       "      <th>2018-03-02 15:00:00</th>\n",
       "      <td>59</td>\n",
       "      <td>15</td>\n",
       "      <td>44.0</td>\n",
       "      <td>45.0</td>\n",
       "      <td>36.0</td>\n",
       "      <td>91.0</td>\n",
       "      <td>54.0</td>\n",
       "      <td>45.0</td>\n",
       "      <td>46.0</td>\n",
       "      <td>7.0</td>\n",
       "      <td>...</td>\n",
       "      <td>58.0</td>\n",
       "      <td>113.0</td>\n",
       "      <td>66.0</td>\n",
       "      <td>61.0</td>\n",
       "      <td>45.0</td>\n",
       "      <td>73.0</td>\n",
       "      <td>44.0</td>\n",
       "      <td>43.0</td>\n",
       "      <td>66.0</td>\n",
       "      <td>55.566667</td>\n",
       "    </tr>\n",
       "  </tbody>\n",
       "</table>\n",
       "<p>10 rows × 27 columns</p>\n",
       "</div>"
      ],
      "text/plain": [
       "                     num_orders  hour  lag_1  lag_2  lag_3  lag_4  lag_5  \\\n",
       "datetime                                                                   \n",
       "2018-03-02 06:00:00          11     6   11.0   20.0   64.0   75.0  120.0   \n",
       "2018-03-02 07:00:00           7     7   11.0   11.0   20.0   64.0   75.0   \n",
       "2018-03-02 08:00:00          46     8    7.0   11.0   11.0   20.0   64.0   \n",
       "2018-03-02 09:00:00          45     9   46.0    7.0   11.0   11.0   20.0   \n",
       "2018-03-02 10:00:00          54    10   45.0   46.0    7.0   11.0   11.0   \n",
       "2018-03-02 11:00:00          91    11   54.0   45.0   46.0    7.0   11.0   \n",
       "2018-03-02 12:00:00          36    12   91.0   54.0   45.0   46.0    7.0   \n",
       "2018-03-02 13:00:00          45    13   36.0   91.0   54.0   45.0   46.0   \n",
       "2018-03-02 14:00:00          44    14   45.0   36.0   91.0   54.0   45.0   \n",
       "2018-03-02 15:00:00          59    15   44.0   45.0   36.0   91.0   54.0   \n",
       "\n",
       "                     lag_6  lag_7  lag_8  ...  lag_16  lag_17  lag_18  lag_19  \\\n",
       "datetime                                  ...                                   \n",
       "2018-03-02 06:00:00   90.0   58.0  113.0  ...    48.0    32.0    30.0    96.0   \n",
       "2018-03-02 07:00:00  120.0   90.0   58.0  ...    66.0    48.0    32.0    30.0   \n",
       "2018-03-02 08:00:00   75.0  120.0   90.0  ...    43.0    66.0    48.0    32.0   \n",
       "2018-03-02 09:00:00   64.0   75.0  120.0  ...    44.0    43.0    66.0    48.0   \n",
       "2018-03-02 10:00:00   20.0   64.0   75.0  ...    73.0    44.0    43.0    66.0   \n",
       "2018-03-02 11:00:00   11.0   20.0   64.0  ...    45.0    73.0    44.0    43.0   \n",
       "2018-03-02 12:00:00   11.0   11.0   20.0  ...    61.0    45.0    73.0    44.0   \n",
       "2018-03-02 13:00:00    7.0   11.0   11.0  ...    66.0    61.0    45.0    73.0   \n",
       "2018-03-02 14:00:00   46.0    7.0   11.0  ...   113.0    66.0    61.0    45.0   \n",
       "2018-03-02 15:00:00   45.0   46.0    7.0  ...    58.0   113.0    66.0    61.0   \n",
       "\n",
       "                     lag_20  lag_21  lag_22  lag_23  lag_24  rolling_mean  \n",
       "datetime                                                                   \n",
       "2018-03-02 06:00:00    64.0    69.0    34.0    15.0    12.0     58.133333  \n",
       "2018-03-02 07:00:00    96.0    64.0    69.0    34.0    15.0     54.366667  \n",
       "2018-03-02 08:00:00    30.0    96.0    64.0    69.0    34.0     51.766667  \n",
       "2018-03-02 09:00:00    32.0    30.0    96.0    64.0    69.0     50.933333  \n",
       "2018-03-02 10:00:00    48.0    32.0    30.0    96.0    64.0     50.233333  \n",
       "2018-03-02 11:00:00    66.0    48.0    32.0    30.0    96.0     50.600000  \n",
       "2018-03-02 12:00:00    43.0    66.0    48.0    32.0    30.0     53.433333  \n",
       "2018-03-02 13:00:00    44.0    43.0    66.0    48.0    32.0     54.233333  \n",
       "2018-03-02 14:00:00    73.0    44.0    43.0    66.0    48.0     55.233333  \n",
       "2018-03-02 15:00:00    45.0    73.0    44.0    43.0    66.0     55.566667  \n",
       "\n",
       "[10 rows x 27 columns]"
      ]
     },
     "execution_count": 19,
     "metadata": {},
     "output_type": "execute_result"
    }
   ],
   "source": [
    "#Удалим строки с пропусками\n",
    "\n",
    "data_features = data_features.dropna()\n",
    "\n",
    "data_features.head(10)"
   ]
  },
  {
   "cell_type": "markdown",
   "metadata": {},
   "source": [
    "Разделим выборки на обучающую, валидационную и тестовую."
   ]
  },
  {
   "cell_type": "code",
   "execution_count": 20,
   "metadata": {},
   "outputs": [],
   "source": [
    "# выделяем тестовую выборку в размере 10% от исходного датасет:\n",
    "\n",
    "train, test = train_test_split(data_features, shuffle=False, test_size=0.1)\n",
    "\n",
    "features_train = train.drop(['num_orders'], axis=1)\n",
    "target_train = train['num_orders']\n",
    "\n",
    "features_test = test.drop(['num_orders'], axis=1)\n",
    "target_test = test['num_orders']"
   ]
  },
  {
   "cell_type": "code",
   "execution_count": 21,
   "metadata": {},
   "outputs": [
    {
     "data": {
      "text/plain": [
       "((3947, 26), (439, 26))"
      ]
     },
     "execution_count": 21,
     "metadata": {},
     "output_type": "execute_result"
    }
   ],
   "source": [
    "#Посмотрим на размеры выборок\n",
    "\n",
    "features_train.shape, features_test.shape"
   ]
  },
  {
   "cell_type": "code",
   "execution_count": 22,
   "metadata": {},
   "outputs": [],
   "source": [
    "#Создадим функцию для вычисления RSME\n",
    "\n",
    "def RMSE(target, predicted):\n",
    "    return (mean_squared_error(target, predicted))**0.5\n",
    "rmse_score = make_scorer(RMSE, greater_is_better=False)"
   ]
  },
  {
   "cell_type": "markdown",
   "metadata": {},
   "source": [
    "## Обучение"
   ]
  },
  {
   "cell_type": "markdown",
   "metadata": {},
   "source": [
    "# LinearRegression"
   ]
  },
  {
   "cell_type": "code",
   "execution_count": 23,
   "metadata": {},
   "outputs": [
    {
     "name": "stdout",
     "output_type": "stream",
     "text": [
      "Среднее RMSE: 25.662347952509474\n",
      "CPU times: user 198 ms, sys: 570 ms, total: 769 ms\n",
      "Wall time: 735 ms\n"
     ]
    }
   ],
   "source": [
    "%%time\n",
    "model_lr = LinearRegression()\n",
    "\n",
    "model_lr.fit(features_train, target_train)\n",
    "\n",
    "model_lr_score = pd.Series(cross_val_score(model_lr,features_train,target_train,scoring=rmse_score)).mean()*(-1)\n",
    "print('Среднее RMSE:', model_lr_score)"
   ]
  },
  {
   "cell_type": "markdown",
   "metadata": {},
   "source": [
    "# RandomForestRegressor"
   ]
  },
  {
   "cell_type": "code",
   "execution_count": 33,
   "metadata": {
    "scrolled": true
   },
   "outputs": [
    {
     "name": "stdout",
     "output_type": "stream",
     "text": [
      "CPU times: user 46.7 s, sys: 172 ms, total: 46.9 s\n",
      "Wall time: 46.9 s\n"
     ]
    },
    {
     "data": {
      "text/plain": [
       "{'max_depth': 10, 'n_estimators': 36}"
      ]
     },
     "execution_count": 33,
     "metadata": {},
     "output_type": "execute_result"
    }
   ],
   "source": [
    "%%time\n",
    "#Подберем необходимые параметры для модели\n",
    "cv_m = TimeSeriesSplit(n_splits=3).split(features_train)\n",
    "parameters = {'n_estimators': range(1,50,5),'max_depth': range(1,15,3)}\n",
    "\n",
    "model_rf = RandomForestRegressor()\n",
    "\n",
    "model_rf_grid = GridSearchCV(model_rf, parameters, scoring=rmse_score, cv=cv_m)\n",
    "model_rf_grid.fit(features_train, target_train)\n",
    "\n",
    "model_rf_grid.best_params_\n",
    "\n",
    "#{'max_depth': 10, 'n_estimators': 36}"
   ]
  },
  {
   "cell_type": "code",
   "execution_count": 25,
   "metadata": {
    "scrolled": true
   },
   "outputs": [
    {
     "name": "stdout",
     "output_type": "stream",
     "text": [
      "Среднее RMSE: 10.898548265597777\n",
      "CPU times: user 35.6 ms, sys: 113 µs, total: 35.8 ms\n",
      "Wall time: 34.8 ms\n"
     ]
    }
   ],
   "source": [
    "%%time\n",
    "\n",
    "model_rf_score = model_rf_grid.score(features_train, target_train) * (-1)\n",
    "\n",
    "print('Среднее RMSE:', model_rf_score)"
   ]
  },
  {
   "cell_type": "markdown",
   "metadata": {},
   "source": [
    "# LGBMRegressor"
   ]
  },
  {
   "cell_type": "code",
   "execution_count": 36,
   "metadata": {},
   "outputs": [
    {
     "name": "stdout",
     "output_type": "stream",
     "text": [
      "CPU times: user 59.6 s, sys: 208 ms, total: 59.8 s\n",
      "Wall time: 1min\n"
     ]
    },
    {
     "data": {
      "text/plain": [
       "{'learning_rate': 0.1, 'num_leaves': 200, 'random_state': 12345}"
      ]
     },
     "execution_count": 36,
     "metadata": {},
     "output_type": "execute_result"
    }
   ],
   "source": [
    "%%time\n",
    "#Подберем необходимые параметры для модели\n",
    "cv_m = TimeSeriesSplit(n_splits=3).split(features_train)\n",
    "parameters = {'num_leaves':[31, 100, 200],'learning_rate':[0.1, 0.3, 0.5],'random_state':[RANDOM_STATE]}\n",
    "\n",
    "model_lgbm = LGBMRegressor()\n",
    "lgbm_grid = GridSearchCV(model_lgbm, parameters, cv=cv_m, scoring=rmse_score)\n",
    "lgbm_grid.fit(features_train, target_train)\n",
    "\n",
    "lgbm_grid.best_params_\n",
    "\n",
    "#{'learning_rate': 0.1, 'num_leaves': 200, 'random_state': 12345}"
   ]
  },
  {
   "cell_type": "code",
   "execution_count": 37,
   "metadata": {},
   "outputs": [
    {
     "name": "stdout",
     "output_type": "stream",
     "text": [
      "Среднее RMSE: 4.4812415021547105\n",
      "CPU times: user 111 ms, sys: 0 ns, total: 111 ms\n",
      "Wall time: 48.6 ms\n"
     ]
    }
   ],
   "source": [
    "%%time\n",
    "\n",
    "lgbm_score = lgbm_grid.score(features_train, target_train) * (-1)\n",
    "\n",
    "print('Среднее RMSE:', lgbm_score)"
   ]
  },
  {
   "cell_type": "markdown",
   "metadata": {},
   "source": [
    "# CatBoostRegressor"
   ]
  },
  {
   "cell_type": "code",
   "execution_count": 38,
   "metadata": {},
   "outputs": [
    {
     "name": "stdout",
     "output_type": "stream",
     "text": [
      "CPU times: user 16min 28s, sys: 36.9 s, total: 17min 5s\n",
      "Wall time: 18min 30s\n"
     ]
    },
    {
     "data": {
      "text/plain": [
       "{'depth': 5, 'iterations': 60, 'learning_rate': 0.3}"
      ]
     },
     "execution_count": 38,
     "metadata": {},
     "output_type": "execute_result"
    }
   ],
   "source": [
    "%%time\n",
    "#Подберем необходимые параметры для модели\n",
    "\n",
    "cv_m = TimeSeriesSplit(n_splits=3).split(features_train)\n",
    "\n",
    "model_cat = CatBoostRegressor(loss_function='RMSE',silent=True, random_seed=RANDOM_STATE)\n",
    "parameters = {'iterations': range(20, 80, 20),'depth': range(5,15,3), 'learning_rate':[0.1, 0.3, 0.5]}\n",
    "\n",
    "cat_grid = GridSearchCV(model_cat, parameters, cv=cv_m, scoring=rmse_score)\n",
    "cat_grid.fit(features_train, target_train);\n",
    "\n",
    "cat_grid.best_params_\n",
    "\n",
    "#{'depth': 5, 'iterations': 60, 'learning_rate': 0.3}"
   ]
  },
  {
   "cell_type": "code",
   "execution_count": 29,
   "metadata": {},
   "outputs": [
    {
     "name": "stdout",
     "output_type": "stream",
     "text": [
      "Среднее RMSE: 18.770669772775104\n",
      "CPU times: user 5.61 ms, sys: 62 µs, total: 5.67 ms\n",
      "Wall time: 4.28 ms\n"
     ]
    }
   ],
   "source": [
    "%%time\n",
    "\n",
    "cat_score = cat_grid.score(features_train, target_train) * (-1)\n",
    "\n",
    "print('Среднее RMSE:', cat_score)"
   ]
  },
  {
   "cell_type": "markdown",
   "metadata": {},
   "source": [
    "# Вывод\n",
    "\n",
    "Мы обучили, подобрали гиперпараметры и сделали предсказания на 4-х моделях:\n",
    "\n",
    "1. LinearRegression;\n",
    "\n",
    "2. RandomForestRegressor;\n",
    "\n",
    "3. LGBMRegressor;\n",
    "\n",
    "4. CatBoostRegressor.\n",
    "\n",
    "Перейдем к тестированию."
   ]
  },
  {
   "cell_type": "markdown",
   "metadata": {},
   "source": [
    "## Тестирование"
   ]
  },
  {
   "cell_type": "markdown",
   "metadata": {},
   "source": [
    "# LinearRegression;"
   ]
  },
  {
   "cell_type": "code",
   "execution_count": 39,
   "metadata": {
    "scrolled": true
   },
   "outputs": [
    {
     "name": "stdout",
     "output_type": "stream",
     "text": [
      "RMSE: 45.40634918040688\n",
      "CPU times: user 18.2 ms, sys: 94.4 ms, total: 113 ms\n",
      "Wall time: 90.3 ms\n"
     ]
    }
   ],
   "source": [
    "%%time\n",
    "#Получим предсказания и вычислим RSME на тестовой выборке\n",
    "\n",
    "model_lr = LinearRegression()\n",
    "\n",
    "model_lr.fit(features_train, target_train)\n",
    "\n",
    "predicted = model_lr.predict(features_test)\n",
    "\n",
    "print('RMSE:', RMSE(target_test, predicted))"
   ]
  },
  {
   "cell_type": "markdown",
   "metadata": {},
   "source": [
    "# RandomForestRegressor"
   ]
  },
  {
   "cell_type": "code",
   "execution_count": 42,
   "metadata": {},
   "outputs": [
    {
     "name": "stdout",
     "output_type": "stream",
     "text": [
      "RMSE: 44.40179124189181\n",
      "CPU times: user 1.22 s, sys: 502 µs, total: 1.22 s\n",
      "Wall time: 1.22 s\n"
     ]
    }
   ],
   "source": [
    "%%time\n",
    "#Получим предсказания и вычислим RSME на тестовой выборке\n",
    "\n",
    "model_rf = RandomForestRegressor(max_depth=10, n_estimators=36, random_state=RANDOM_STATE)\n",
    "\n",
    "model_rf.fit(features_train, target_train)\n",
    "\n",
    "predicted = model_rf.predict(features_test)\n",
    "\n",
    "print('RMSE:', RMSE(target_test, predicted))"
   ]
  },
  {
   "cell_type": "markdown",
   "metadata": {},
   "source": [
    "# LGBMRegressor"
   ]
  },
  {
   "cell_type": "code",
   "execution_count": 45,
   "metadata": {},
   "outputs": [
    {
     "name": "stdout",
     "output_type": "stream",
     "text": [
      "RMSE: 41.82733904579166\n",
      "CPU times: user 14.5 s, sys: 8.35 ms, total: 14.5 s\n",
      "Wall time: 14.7 s\n"
     ]
    }
   ],
   "source": [
    "%%time\n",
    "#Получим предсказания и вычислим RSME на тестовой выборке\n",
    "\n",
    "model_lgbr = LGBMRegressor(learning_rate=0.1, num_leaves=200, random_state=RANDOM_STATE)\n",
    "\n",
    "model_lgbr.fit(features_train, target_train)\n",
    "\n",
    "predicted = model_lgbr.predict(features_test)\n",
    "\n",
    "print('RMSE:', RMSE(target_test, predicted))"
   ]
  },
  {
   "cell_type": "markdown",
   "metadata": {},
   "source": [
    "# CatBoostRegressor"
   ]
  },
  {
   "cell_type": "code",
   "execution_count": 46,
   "metadata": {},
   "outputs": [
    {
     "name": "stdout",
     "output_type": "stream",
     "text": [
      "0:\tlearn: 33.3707963\ttotal: 57.8ms\tremaining: 3.41s\n",
      "1:\tlearn: 29.6387824\ttotal: 93.5ms\tremaining: 2.71s\n",
      "2:\tlearn: 27.0182566\ttotal: 129ms\tremaining: 2.45s\n",
      "3:\tlearn: 25.2806704\ttotal: 166ms\tremaining: 2.33s\n",
      "4:\tlearn: 24.1063523\ttotal: 202ms\tremaining: 2.22s\n",
      "5:\tlearn: 23.2905844\ttotal: 236ms\tremaining: 2.12s\n",
      "6:\tlearn: 22.3831795\ttotal: 273ms\tremaining: 2.06s\n",
      "7:\tlearn: 21.8153088\ttotal: 310ms\tremaining: 2.02s\n",
      "8:\tlearn: 21.3902588\ttotal: 345ms\tremaining: 1.96s\n",
      "9:\tlearn: 21.3006067\ttotal: 381ms\tremaining: 1.91s\n",
      "10:\tlearn: 21.0353558\ttotal: 416ms\tremaining: 1.85s\n",
      "11:\tlearn: 20.6340669\ttotal: 452ms\tremaining: 1.81s\n",
      "12:\tlearn: 20.4745071\ttotal: 488ms\tremaining: 1.76s\n",
      "13:\tlearn: 20.3950655\ttotal: 526ms\tremaining: 1.73s\n",
      "14:\tlearn: 20.0796180\ttotal: 562ms\tremaining: 1.69s\n",
      "15:\tlearn: 19.7837604\ttotal: 600ms\tremaining: 1.65s\n",
      "16:\tlearn: 19.7181093\ttotal: 637ms\tremaining: 1.61s\n",
      "17:\tlearn: 19.5705650\ttotal: 676ms\tremaining: 1.58s\n",
      "18:\tlearn: 19.4180996\ttotal: 715ms\tremaining: 1.54s\n",
      "19:\tlearn: 19.3092033\ttotal: 751ms\tremaining: 1.5s\n",
      "20:\tlearn: 19.0726870\ttotal: 785ms\tremaining: 1.46s\n",
      "21:\tlearn: 18.7546674\ttotal: 826ms\tremaining: 1.43s\n",
      "22:\tlearn: 18.7054744\ttotal: 862ms\tremaining: 1.39s\n",
      "23:\tlearn: 18.3878400\ttotal: 897ms\tremaining: 1.34s\n",
      "24:\tlearn: 18.2239156\ttotal: 932ms\tremaining: 1.3s\n",
      "25:\tlearn: 18.0521642\ttotal: 968ms\tremaining: 1.27s\n",
      "26:\tlearn: 18.0010327\ttotal: 1.01s\tremaining: 1.23s\n",
      "27:\tlearn: 17.6805638\ttotal: 1.04s\tremaining: 1.2s\n",
      "28:\tlearn: 17.4129937\ttotal: 1.08s\tremaining: 1.16s\n",
      "29:\tlearn: 17.3953031\ttotal: 1.09s\tremaining: 1.09s\n",
      "30:\tlearn: 17.2320813\ttotal: 1.12s\tremaining: 1.05s\n",
      "31:\tlearn: 17.2007309\ttotal: 1.16s\tremaining: 1.01s\n",
      "32:\tlearn: 17.0562596\ttotal: 1.2s\tremaining: 982ms\n",
      "33:\tlearn: 16.8998112\ttotal: 1.24s\tremaining: 947ms\n",
      "34:\tlearn: 16.8861689\ttotal: 1.27s\tremaining: 910ms\n",
      "35:\tlearn: 16.7081829\ttotal: 1.31s\tremaining: 874ms\n",
      "36:\tlearn: 16.5623375\ttotal: 1.35s\tremaining: 837ms\n",
      "37:\tlearn: 16.2982765\ttotal: 1.38s\tremaining: 801ms\n",
      "38:\tlearn: 16.2348249\ttotal: 1.42s\tremaining: 765ms\n",
      "39:\tlearn: 16.0470089\ttotal: 1.46s\tremaining: 728ms\n",
      "40:\tlearn: 15.8470409\ttotal: 1.49s\tremaining: 692ms\n",
      "41:\tlearn: 15.6292656\ttotal: 1.53s\tremaining: 656ms\n",
      "42:\tlearn: 15.4741405\ttotal: 1.57s\tremaining: 620ms\n",
      "43:\tlearn: 15.4660461\ttotal: 1.61s\tremaining: 585ms\n",
      "44:\tlearn: 15.2797363\ttotal: 1.65s\tremaining: 548ms\n",
      "45:\tlearn: 15.0981961\ttotal: 1.68s\tremaining: 512ms\n",
      "46:\tlearn: 14.8629262\ttotal: 1.72s\tremaining: 475ms\n",
      "47:\tlearn: 14.7402327\ttotal: 1.75s\tremaining: 438ms\n",
      "48:\tlearn: 14.6776228\ttotal: 1.79s\tremaining: 402ms\n",
      "49:\tlearn: 14.4412506\ttotal: 1.83s\tremaining: 365ms\n",
      "50:\tlearn: 14.1833029\ttotal: 1.86s\tremaining: 329ms\n",
      "51:\tlearn: 13.9654063\ttotal: 1.9s\tremaining: 292ms\n",
      "52:\tlearn: 13.7710824\ttotal: 1.94s\tremaining: 256ms\n",
      "53:\tlearn: 13.6253872\ttotal: 1.97s\tremaining: 219ms\n",
      "54:\tlearn: 13.4938631\ttotal: 2.01s\tremaining: 183ms\n",
      "55:\tlearn: 13.4756821\ttotal: 2.05s\tremaining: 146ms\n",
      "56:\tlearn: 13.4703189\ttotal: 2.09s\tremaining: 110ms\n",
      "57:\tlearn: 13.3449212\ttotal: 2.12s\tremaining: 73.2ms\n",
      "58:\tlearn: 13.2705525\ttotal: 2.16s\tremaining: 36.6ms\n",
      "59:\tlearn: 13.1284460\ttotal: 2.19s\tremaining: 0us\n",
      "RMSE: 48.901840752230406\n",
      "CPU times: user 2.2 s, sys: 44.1 ms, total: 2.25 s\n",
      "Wall time: 2.97 s\n"
     ]
    }
   ],
   "source": [
    "%%time\n",
    "#Получим предсказания и вычислим RSME на тестовой выборке\n",
    "\n",
    "model_cat = CatBoostRegressor(depth=9, iterations=60, learning_rate=0.3, random_seed=RANDOM_STATE)\n",
    "\n",
    "model_cat.fit(features_train, target_train)\n",
    "\n",
    "predicted = model_cat.predict(features_test)\n",
    "\n",
    "print('RMSE:', RMSE(target_test, predicted))"
   ]
  },
  {
   "cell_type": "code",
   "execution_count": 47,
   "metadata": {
    "scrolled": true
   },
   "outputs": [
    {
     "name": "stdout",
     "output_type": "stream",
     "text": [
      "RMSE: 84.69779992674266\n",
      "None\n",
      "CPU times: user 0 ns, sys: 3.14 ms, total: 3.14 ms\n",
      "Wall time: 2.31 ms\n"
     ]
    }
   ],
   "source": [
    "%%time\n",
    "#Вычислим RSME констатной модели\n",
    "\n",
    "model_const = DummyRegressor(strategy=\"mean\")\n",
    "\n",
    "model_const.fit(features_train, target_train)\n",
    "\n",
    "predicted = model_const.predict(features_test)\n",
    "print(print('RMSE:', RMSE(target_test,predicted)))"
   ]
  },
  {
   "cell_type": "code",
   "execution_count": 48,
   "metadata": {},
   "outputs": [
    {
     "data": {
      "text/html": [
       "<div>\n",
       "<style scoped>\n",
       "    .dataframe tbody tr th:only-of-type {\n",
       "        vertical-align: middle;\n",
       "    }\n",
       "\n",
       "    .dataframe tbody tr th {\n",
       "        vertical-align: top;\n",
       "    }\n",
       "\n",
       "    .dataframe thead th {\n",
       "        text-align: right;\n",
       "    }\n",
       "</style>\n",
       "<table border=\"1\" class=\"dataframe\">\n",
       "  <thead>\n",
       "    <tr style=\"text-align: right;\">\n",
       "      <th></th>\n",
       "      <th>RMSE</th>\n",
       "    </tr>\n",
       "  </thead>\n",
       "  <tbody>\n",
       "    <tr>\n",
       "      <th>LinearRegression</th>\n",
       "      <td>45.40</td>\n",
       "    </tr>\n",
       "    <tr>\n",
       "      <th>RandomForestRegressor</th>\n",
       "      <td>44.40</td>\n",
       "    </tr>\n",
       "    <tr>\n",
       "      <th>LGBMRegressor</th>\n",
       "      <td>41.82</td>\n",
       "    </tr>\n",
       "    <tr>\n",
       "      <th>CatBoostRegressor</th>\n",
       "      <td>48.90</td>\n",
       "    </tr>\n",
       "    <tr>\n",
       "      <th>Const_model</th>\n",
       "      <td>84.69</td>\n",
       "    </tr>\n",
       "  </tbody>\n",
       "</table>\n",
       "</div>"
      ],
      "text/plain": [
       "                        RMSE\n",
       "LinearRegression       45.40\n",
       "RandomForestRegressor  44.40\n",
       "LGBMRegressor          41.82\n",
       "CatBoostRegressor      48.90\n",
       "Const_model            84.69"
      ]
     },
     "execution_count": 48,
     "metadata": {},
     "output_type": "execute_result"
    }
   ],
   "source": [
    "#Составим таблицу для анализа моделей\n",
    "\n",
    "data_tabl=[45.40, 44.40, 41.82, 48.90, 84.69]\n",
    "model_tabl=['LinearRegression', 'RandomForestRegressor', 'LGBMRegressor', 'CatBoostRegressor', 'Const_model']\n",
    "\n",
    "pd.DataFrame(data=data_tabl, index=model_tabl, columns=['RMSE'])"
   ]
  },
  {
   "cell_type": "markdown",
   "metadata": {},
   "source": [
    "По условию задания нужно достигнуть значение метрики RMSE на тестовой не больше 48. RSME нашей лучшей модели(LGBMRegressor) оказалось 41.82, что удовлетворяет условию задачи. С помощью константной модели проверили модель на адекватность. Модель адекватна."
   ]
  },
  {
   "cell_type": "markdown",
   "metadata": {},
   "source": [
    "# Вывод\n",
    "\n",
    "Данные были загружены и проанализированы. Определили, что предоставленные нам данные были собраны за полгода. Минимальное количество заказов за час было 0, максимальное 462. Среднее же количество за час 84. Имеется тренд к увеличению заказов такси, его можно связать с ростом компании. Сезонность присутствует, но только посуточная. Можем наблюдать маленькую активность заказов с утра и ночью, которая сменяется пиковой активностью в вечернее время. Но подобное может быть из-за графиков вылета-прилета аэропорта. Создали дополнительные признаки для обучения модели. Подобрали гиперпараметры для моделей RandomForestRegressor, LGBMRegressor, CatBoostRegressor. Обучили модели, получили предсказания и вычислили RSME для каждой модели. Лучшее значение метрики RSME оказалось у модели LGBMRegressor. Проверили ее на тестовой выборке и получили RSME=41.82."
   ]
  }
 ],
 "metadata": {
  "ExecuteTimeLog": [
   {
    "duration": 1740,
    "start_time": "2023-08-06T20:14:33.081Z"
   },
   {
    "duration": 3,
    "start_time": "2023-08-06T20:14:38.779Z"
   },
   {
    "duration": 137,
    "start_time": "2023-08-06T20:14:41.959Z"
   },
   {
    "duration": 28,
    "start_time": "2023-08-06T20:15:07.471Z"
   },
   {
    "duration": 121,
    "start_time": "2023-08-06T20:36:06.640Z"
   },
   {
    "duration": 14,
    "start_time": "2023-08-06T20:37:38.579Z"
   },
   {
    "duration": 16,
    "start_time": "2023-08-06T20:37:42.635Z"
   },
   {
    "duration": 46,
    "start_time": "2023-08-06T20:39:31.866Z"
   },
   {
    "duration": 21,
    "start_time": "2023-08-06T20:39:36.183Z"
   },
   {
    "duration": 2166,
    "start_time": "2023-08-06T20:39:43.234Z"
   },
   {
    "duration": 47,
    "start_time": "2023-08-06T20:40:21.184Z"
   },
   {
    "duration": 21,
    "start_time": "2023-08-06T20:40:24.975Z"
   },
   {
    "duration": 3068,
    "start_time": "2023-08-06T20:40:32.364Z"
   },
   {
    "duration": 44,
    "start_time": "2023-08-06T20:40:48.384Z"
   },
   {
    "duration": 24,
    "start_time": "2023-08-06T20:40:51.774Z"
   },
   {
    "duration": 13,
    "start_time": "2023-08-06T20:40:56.737Z"
   },
   {
    "duration": 12,
    "start_time": "2023-08-06T20:40:59.331Z"
   },
   {
    "duration": 44,
    "start_time": "2023-08-06T20:41:38.435Z"
   },
   {
    "duration": 28,
    "start_time": "2023-08-06T20:41:42.979Z"
   },
   {
    "duration": 227,
    "start_time": "2023-08-06T20:41:49.134Z"
   },
   {
    "duration": 317,
    "start_time": "2023-08-06T20:41:56.079Z"
   },
   {
    "duration": 13,
    "start_time": "2023-08-06T20:43:45.883Z"
   },
   {
    "duration": 10,
    "start_time": "2023-08-06T20:44:15.243Z"
   },
   {
    "duration": 12,
    "start_time": "2023-08-06T20:45:05.200Z"
   },
   {
    "duration": 6,
    "start_time": "2023-08-06T20:45:36.234Z"
   },
   {
    "duration": 4,
    "start_time": "2023-08-06T20:47:05.143Z"
   },
   {
    "duration": 4,
    "start_time": "2023-08-06T20:59:02.466Z"
   },
   {
    "duration": 6,
    "start_time": "2023-08-06T21:03:58.546Z"
   },
   {
    "duration": 327,
    "start_time": "2023-08-06T21:25:08.655Z"
   },
   {
    "duration": 13,
    "start_time": "2023-08-06T21:25:45.603Z"
   },
   {
    "duration": 24,
    "start_time": "2023-08-06T21:26:30.897Z"
   },
   {
    "duration": 1082,
    "start_time": "2023-08-06T21:26:37.783Z"
   },
   {
    "duration": 1065,
    "start_time": "2023-08-06T21:39:07.487Z"
   },
   {
    "duration": 8,
    "start_time": "2023-08-06T21:40:07.198Z"
   },
   {
    "duration": 15,
    "start_time": "2023-08-06T21:40:18.793Z"
   },
   {
    "duration": 10,
    "start_time": "2023-08-06T21:40:27.009Z"
   },
   {
    "duration": 282,
    "start_time": "2023-08-06T21:41:01.515Z"
   },
   {
    "duration": 272,
    "start_time": "2023-08-06T21:41:06.849Z"
   },
   {
    "duration": 370,
    "start_time": "2023-08-06T21:42:00.541Z"
   },
   {
    "duration": 345,
    "start_time": "2023-08-06T21:42:04.663Z"
   },
   {
    "duration": 288,
    "start_time": "2023-08-06T21:42:58.996Z"
   },
   {
    "duration": 390,
    "start_time": "2023-08-06T21:43:05.081Z"
   },
   {
    "duration": 12,
    "start_time": "2023-08-06T21:47:01.732Z"
   },
   {
    "duration": 10,
    "start_time": "2023-08-06T21:47:08.554Z"
   },
   {
    "duration": 215,
    "start_time": "2023-08-06T21:47:14.846Z"
   },
   {
    "duration": 2045,
    "start_time": "2023-08-07T09:35:39.764Z"
   },
   {
    "duration": 190,
    "start_time": "2023-08-07T09:35:41.817Z"
   },
   {
    "duration": 15,
    "start_time": "2023-08-07T09:35:42.009Z"
   },
   {
    "duration": 294,
    "start_time": "2023-08-07T09:35:42.025Z"
   },
   {
    "duration": 4,
    "start_time": "2023-08-07T09:35:42.321Z"
   },
   {
    "duration": 82,
    "start_time": "2023-08-07T09:35:42.326Z"
   },
   {
    "duration": 16,
    "start_time": "2023-08-07T09:35:42.409Z"
   },
   {
    "duration": 13,
    "start_time": "2023-08-07T09:35:42.427Z"
   },
   {
    "duration": 411,
    "start_time": "2023-08-07T09:35:42.442Z"
   },
   {
    "duration": 377,
    "start_time": "2023-08-07T09:35:42.856Z"
   },
   {
    "duration": 417,
    "start_time": "2023-08-07T09:35:43.235Z"
   },
   {
    "duration": 12,
    "start_time": "2023-08-07T09:35:43.661Z"
   },
   {
    "duration": 216,
    "start_time": "2023-08-07T09:35:43.674Z"
   },
   {
    "duration": 204,
    "start_time": "2023-08-07T09:46:30.187Z"
   },
   {
    "duration": 212,
    "start_time": "2023-08-07T09:46:50.322Z"
   },
   {
    "duration": 283,
    "start_time": "2023-08-07T09:47:19.797Z"
   },
   {
    "duration": 243,
    "start_time": "2023-08-07T09:47:37.603Z"
   },
   {
    "duration": 241,
    "start_time": "2023-08-07T09:47:49.219Z"
   },
   {
    "duration": 1895,
    "start_time": "2023-08-07T09:48:10.996Z"
   },
   {
    "duration": 63,
    "start_time": "2023-08-07T09:48:12.893Z"
   },
   {
    "duration": 13,
    "start_time": "2023-08-07T09:48:12.958Z"
   },
   {
    "duration": 297,
    "start_time": "2023-08-07T09:48:12.973Z"
   },
   {
    "duration": 3,
    "start_time": "2023-08-07T09:48:13.273Z"
   },
   {
    "duration": 15,
    "start_time": "2023-08-07T09:48:13.278Z"
   },
   {
    "duration": 4,
    "start_time": "2023-08-07T09:48:13.294Z"
   },
   {
    "duration": 17,
    "start_time": "2023-08-07T09:48:13.299Z"
   },
   {
    "duration": 375,
    "start_time": "2023-08-07T09:48:13.318Z"
   },
   {
    "duration": 310,
    "start_time": "2023-08-07T09:48:13.695Z"
   },
   {
    "duration": 286,
    "start_time": "2023-08-07T09:48:14.007Z"
   },
   {
    "duration": 10,
    "start_time": "2023-08-07T09:48:14.295Z"
   },
   {
    "duration": 246,
    "start_time": "2023-08-07T09:48:14.306Z"
   },
   {
    "duration": 210,
    "start_time": "2023-08-07T09:58:12.499Z"
   },
   {
    "duration": 228,
    "start_time": "2023-08-07T09:58:24.622Z"
   },
   {
    "duration": 545,
    "start_time": "2023-08-07T10:20:01.838Z"
   },
   {
    "duration": 399,
    "start_time": "2023-08-07T10:20:07.009Z"
   },
   {
    "duration": 332,
    "start_time": "2023-08-07T10:23:11.715Z"
   },
   {
    "duration": 356,
    "start_time": "2023-08-07T10:23:26.646Z"
   },
   {
    "duration": 121,
    "start_time": "2023-08-07T10:44:59.316Z"
   },
   {
    "duration": 201,
    "start_time": "2023-08-07T10:46:18.720Z"
   },
   {
    "duration": 193,
    "start_time": "2023-08-07T10:54:13.067Z"
   },
   {
    "duration": 12,
    "start_time": "2023-08-07T10:54:39.802Z"
   },
   {
    "duration": 125,
    "start_time": "2023-08-07T10:54:53.710Z"
   },
   {
    "duration": 195,
    "start_time": "2023-08-07T10:56:06.284Z"
   },
   {
    "duration": 224,
    "start_time": "2023-08-07T10:56:59.068Z"
   },
   {
    "duration": 198,
    "start_time": "2023-08-07T10:57:24.074Z"
   },
   {
    "duration": 9,
    "start_time": "2023-08-07T11:00:09.896Z"
   },
   {
    "duration": 29,
    "start_time": "2023-08-07T11:02:24.872Z"
   },
   {
    "duration": 1662,
    "start_time": "2023-08-07T11:03:06.534Z"
   },
   {
    "duration": 74,
    "start_time": "2023-08-07T11:03:08.198Z"
   },
   {
    "duration": 13,
    "start_time": "2023-08-07T11:03:08.277Z"
   },
   {
    "duration": 297,
    "start_time": "2023-08-07T11:03:08.291Z"
   },
   {
    "duration": 4,
    "start_time": "2023-08-07T11:03:08.590Z"
   },
   {
    "duration": 18,
    "start_time": "2023-08-07T11:03:08.596Z"
   },
   {
    "duration": 7,
    "start_time": "2023-08-07T11:03:08.615Z"
   },
   {
    "duration": 65,
    "start_time": "2023-08-07T11:03:08.624Z"
   },
   {
    "duration": 419,
    "start_time": "2023-08-07T11:03:08.690Z"
   },
   {
    "duration": 392,
    "start_time": "2023-08-07T11:03:09.113Z"
   },
   {
    "duration": 314,
    "start_time": "2023-08-07T11:03:09.507Z"
   },
   {
    "duration": 23,
    "start_time": "2023-08-07T11:03:09.823Z"
   },
   {
    "duration": 315,
    "start_time": "2023-08-07T11:03:09.849Z"
   },
   {
    "duration": 313,
    "start_time": "2023-08-07T11:03:10.166Z"
   },
   {
    "duration": 331,
    "start_time": "2023-08-07T11:03:10.485Z"
   },
   {
    "duration": 583,
    "start_time": "2023-08-07T11:03:10.818Z"
   },
   {
    "duration": 206,
    "start_time": "2023-08-07T11:03:11.403Z"
   },
   {
    "duration": 21,
    "start_time": "2023-08-07T11:03:40.759Z"
   },
   {
    "duration": 15,
    "start_time": "2023-08-07T11:04:38.716Z"
   },
   {
    "duration": 705,
    "start_time": "2023-08-07T11:04:44.751Z"
   },
   {
    "duration": 3,
    "start_time": "2023-08-07T11:47:29.672Z"
   },
   {
    "duration": 69,
    "start_time": "2023-08-07T11:49:21.296Z"
   },
   {
    "duration": 31,
    "start_time": "2023-08-07T11:50:12.353Z"
   },
   {
    "duration": 20,
    "start_time": "2023-08-07T11:57:51.960Z"
   },
   {
    "duration": 3,
    "start_time": "2023-08-07T11:57:58.618Z"
   },
   {
    "duration": 15,
    "start_time": "2023-08-07T11:58:41.555Z"
   },
   {
    "duration": 64,
    "start_time": "2023-08-07T12:00:37.729Z"
   },
   {
    "duration": 15,
    "start_time": "2023-08-07T12:07:36.557Z"
   },
   {
    "duration": 236,
    "start_time": "2023-08-07T12:07:39.420Z"
   },
   {
    "duration": 2,
    "start_time": "2023-08-07T12:07:57.859Z"
   },
   {
    "duration": 187,
    "start_time": "2023-08-07T12:08:00.359Z"
   },
   {
    "duration": 3,
    "start_time": "2023-08-07T12:08:13.853Z"
   },
   {
    "duration": 221,
    "start_time": "2023-08-07T12:08:17.877Z"
   },
   {
    "duration": 4,
    "start_time": "2023-08-07T12:08:39.702Z"
   },
   {
    "duration": 164,
    "start_time": "2023-08-07T12:08:50.984Z"
   },
   {
    "duration": 3,
    "start_time": "2023-08-07T12:09:09.906Z"
   },
   {
    "duration": 8,
    "start_time": "2023-08-07T12:09:15.513Z"
   },
   {
    "duration": 43912,
    "start_time": "2023-08-07T12:10:04.538Z"
   },
   {
    "duration": 1851,
    "start_time": "2023-08-07T12:14:03.318Z"
   },
   {
    "duration": 103,
    "start_time": "2023-08-07T12:14:26.491Z"
   },
   {
    "duration": 25,
    "start_time": "2023-08-07T12:14:34.653Z"
   },
   {
    "duration": 1501,
    "start_time": "2023-08-07T13:07:43.751Z"
   },
   {
    "duration": 46,
    "start_time": "2023-08-07T13:07:45.253Z"
   },
   {
    "duration": 11,
    "start_time": "2023-08-07T13:07:45.300Z"
   },
   {
    "duration": 240,
    "start_time": "2023-08-07T13:07:45.312Z"
   },
   {
    "duration": 4,
    "start_time": "2023-08-07T13:07:45.554Z"
   },
   {
    "duration": 33,
    "start_time": "2023-08-07T13:07:45.559Z"
   },
   {
    "duration": 14,
    "start_time": "2023-08-07T13:07:45.593Z"
   },
   {
    "duration": 25,
    "start_time": "2023-08-07T13:07:45.608Z"
   },
   {
    "duration": 271,
    "start_time": "2023-08-07T13:07:45.690Z"
   },
   {
    "duration": 313,
    "start_time": "2023-08-07T13:07:45.963Z"
   },
   {
    "duration": 277,
    "start_time": "2023-08-07T13:07:46.278Z"
   },
   {
    "duration": 9,
    "start_time": "2023-08-07T13:07:46.559Z"
   },
   {
    "duration": 213,
    "start_time": "2023-08-07T13:07:46.570Z"
   },
   {
    "duration": 230,
    "start_time": "2023-08-07T13:07:46.785Z"
   },
   {
    "duration": 242,
    "start_time": "2023-08-07T13:07:47.017Z"
   },
   {
    "duration": 413,
    "start_time": "2023-08-07T13:07:47.261Z"
   },
   {
    "duration": 3,
    "start_time": "2023-08-07T13:07:47.675Z"
   },
   {
    "duration": 43,
    "start_time": "2023-08-07T13:07:47.680Z"
   },
   {
    "duration": 46,
    "start_time": "2023-08-07T13:07:47.724Z"
   },
   {
    "duration": 7,
    "start_time": "2023-08-07T13:07:47.772Z"
   },
   {
    "duration": 11,
    "start_time": "2023-08-07T13:07:47.781Z"
   },
   {
    "duration": 10,
    "start_time": "2023-08-07T13:07:47.793Z"
   },
   {
    "duration": 47,
    "start_time": "2023-08-07T13:07:47.805Z"
   },
   {
    "duration": 199,
    "start_time": "2023-08-07T13:07:47.853Z"
   },
   {
    "duration": 6,
    "start_time": "2023-08-07T13:07:48.055Z"
   },
   {
    "duration": 1958,
    "start_time": "2023-08-07T13:07:48.062Z"
   },
   {
    "duration": 35,
    "start_time": "2023-08-07T13:07:50.021Z"
   },
   {
    "duration": 209264,
    "start_time": "2023-08-07T13:07:50.058Z"
   },
   {
    "duration": 3824,
    "start_time": "2023-08-07T13:11:19.323Z"
   },
   {
    "duration": 196,
    "start_time": "2023-08-07T13:11:23.149Z"
   },
   {
    "duration": 1446,
    "start_time": "2023-08-07T13:24:12.150Z"
   },
   {
    "duration": 54,
    "start_time": "2023-08-07T13:24:13.598Z"
   },
   {
    "duration": 11,
    "start_time": "2023-08-07T13:24:13.654Z"
   },
   {
    "duration": 231,
    "start_time": "2023-08-07T13:24:13.667Z"
   },
   {
    "duration": 3,
    "start_time": "2023-08-07T13:24:13.901Z"
   },
   {
    "duration": 19,
    "start_time": "2023-08-07T13:24:13.905Z"
   },
   {
    "duration": 7,
    "start_time": "2023-08-07T13:24:13.925Z"
   },
   {
    "duration": 26,
    "start_time": "2023-08-07T13:24:13.940Z"
   },
   {
    "duration": 266,
    "start_time": "2023-08-07T13:24:14.029Z"
   },
   {
    "duration": 305,
    "start_time": "2023-08-07T13:24:14.296Z"
   },
   {
    "duration": 317,
    "start_time": "2023-08-07T13:24:14.603Z"
   },
   {
    "duration": 22,
    "start_time": "2023-08-07T13:24:14.922Z"
   },
   {
    "duration": 212,
    "start_time": "2023-08-07T13:24:14.945Z"
   },
   {
    "duration": 227,
    "start_time": "2023-08-07T13:24:15.162Z"
   },
   {
    "duration": 230,
    "start_time": "2023-08-07T13:24:15.391Z"
   },
   {
    "duration": 429,
    "start_time": "2023-08-07T13:24:15.623Z"
   },
   {
    "duration": 4,
    "start_time": "2023-08-07T13:24:16.054Z"
   },
   {
    "duration": 44,
    "start_time": "2023-08-07T13:24:16.059Z"
   },
   {
    "duration": 39,
    "start_time": "2023-08-07T13:24:16.104Z"
   },
   {
    "duration": 10,
    "start_time": "2023-08-07T13:24:16.149Z"
   },
   {
    "duration": 4,
    "start_time": "2023-08-07T13:24:16.161Z"
   },
   {
    "duration": 10,
    "start_time": "2023-08-07T13:24:16.167Z"
   },
   {
    "duration": 71,
    "start_time": "2023-08-07T13:24:16.179Z"
   },
   {
    "duration": 101,
    "start_time": "2023-08-07T13:24:16.251Z"
   },
   {
    "duration": 7,
    "start_time": "2023-08-07T13:24:16.354Z"
   },
   {
    "duration": 1908,
    "start_time": "2023-08-07T13:24:16.363Z"
   },
   {
    "duration": 20,
    "start_time": "2023-08-07T13:24:18.272Z"
   },
   {
    "duration": 3,
    "start_time": "2023-08-07T13:24:18.293Z"
   },
   {
    "duration": 1530,
    "start_time": "2023-08-07T13:35:12.888Z"
   },
   {
    "duration": 54,
    "start_time": "2023-08-07T13:35:14.420Z"
   },
   {
    "duration": 14,
    "start_time": "2023-08-07T13:35:14.476Z"
   },
   {
    "duration": 260,
    "start_time": "2023-08-07T13:35:14.494Z"
   },
   {
    "duration": 3,
    "start_time": "2023-08-07T13:35:14.756Z"
   },
   {
    "duration": 18,
    "start_time": "2023-08-07T13:35:14.760Z"
   },
   {
    "duration": 9,
    "start_time": "2023-08-07T13:35:14.779Z"
   },
   {
    "duration": 9,
    "start_time": "2023-08-07T13:35:14.790Z"
   },
   {
    "duration": 313,
    "start_time": "2023-08-07T13:35:14.801Z"
   },
   {
    "duration": 314,
    "start_time": "2023-08-07T13:35:15.118Z"
   },
   {
    "duration": 256,
    "start_time": "2023-08-07T13:35:15.434Z"
   },
   {
    "duration": 10,
    "start_time": "2023-08-07T13:35:15.691Z"
   },
   {
    "duration": 206,
    "start_time": "2023-08-07T13:35:15.702Z"
   },
   {
    "duration": 228,
    "start_time": "2023-08-07T13:35:15.910Z"
   },
   {
    "duration": 227,
    "start_time": "2023-08-07T13:35:16.139Z"
   },
   {
    "duration": 419,
    "start_time": "2023-08-07T13:35:16.367Z"
   },
   {
    "duration": 4,
    "start_time": "2023-08-07T13:35:16.788Z"
   },
   {
    "duration": 62,
    "start_time": "2023-08-07T13:35:16.794Z"
   },
   {
    "duration": 28,
    "start_time": "2023-08-07T13:35:16.858Z"
   },
   {
    "duration": 9,
    "start_time": "2023-08-07T13:35:16.887Z"
   },
   {
    "duration": 17,
    "start_time": "2023-08-07T13:35:16.897Z"
   },
   {
    "duration": 19,
    "start_time": "2023-08-07T13:35:16.915Z"
   },
   {
    "duration": 24,
    "start_time": "2023-08-07T13:35:16.935Z"
   },
   {
    "duration": 185,
    "start_time": "2023-08-07T13:35:16.960Z"
   },
   {
    "duration": 103,
    "start_time": "2023-08-07T13:35:17.147Z"
   },
   {
    "duration": 1732,
    "start_time": "2023-08-07T13:35:17.252Z"
   },
   {
    "duration": 20,
    "start_time": "2023-08-07T13:35:18.986Z"
   },
   {
    "duration": 2,
    "start_time": "2023-08-07T13:35:19.009Z"
   },
   {
    "duration": 1538,
    "start_time": "2023-08-07T13:47:44.947Z"
   },
   {
    "duration": 48,
    "start_time": "2023-08-07T13:47:46.486Z"
   },
   {
    "duration": 10,
    "start_time": "2023-08-07T13:47:46.536Z"
   },
   {
    "duration": 251,
    "start_time": "2023-08-07T13:47:46.549Z"
   },
   {
    "duration": 4,
    "start_time": "2023-08-07T13:47:46.801Z"
   },
   {
    "duration": 19,
    "start_time": "2023-08-07T13:47:46.807Z"
   },
   {
    "duration": 11,
    "start_time": "2023-08-07T13:47:46.828Z"
   },
   {
    "duration": 9,
    "start_time": "2023-08-07T13:47:46.840Z"
   },
   {
    "duration": 324,
    "start_time": "2023-08-07T13:47:46.851Z"
   },
   {
    "duration": 297,
    "start_time": "2023-08-07T13:47:47.178Z"
   },
   {
    "duration": 261,
    "start_time": "2023-08-07T13:47:47.477Z"
   },
   {
    "duration": 8,
    "start_time": "2023-08-07T13:47:47.739Z"
   },
   {
    "duration": 205,
    "start_time": "2023-08-07T13:47:47.749Z"
   },
   {
    "duration": 233,
    "start_time": "2023-08-07T13:47:47.957Z"
   },
   {
    "duration": 221,
    "start_time": "2023-08-07T13:47:48.192Z"
   },
   {
    "duration": 423,
    "start_time": "2023-08-07T13:47:48.415Z"
   },
   {
    "duration": 4,
    "start_time": "2023-08-07T13:47:48.840Z"
   },
   {
    "duration": 44,
    "start_time": "2023-08-07T13:47:48.846Z"
   },
   {
    "duration": 28,
    "start_time": "2023-08-07T13:47:48.892Z"
   },
   {
    "duration": 7,
    "start_time": "2023-08-07T13:47:48.938Z"
   },
   {
    "duration": 6,
    "start_time": "2023-08-07T13:47:48.947Z"
   },
   {
    "duration": 7,
    "start_time": "2023-08-07T13:47:48.954Z"
   },
   {
    "duration": 79,
    "start_time": "2023-08-07T13:47:48.962Z"
   },
   {
    "duration": 100,
    "start_time": "2023-08-07T13:47:49.045Z"
   },
   {
    "duration": 192,
    "start_time": "2023-08-07T13:47:49.147Z"
   },
   {
    "duration": 1704,
    "start_time": "2023-08-07T13:47:49.341Z"
   },
   {
    "duration": 21,
    "start_time": "2023-08-07T13:47:51.047Z"
   },
   {
    "duration": 3,
    "start_time": "2023-08-07T13:47:51.071Z"
   },
   {
    "duration": 8,
    "start_time": "2023-08-07T13:47:51.076Z"
   },
   {
    "duration": 8,
    "start_time": "2023-08-07T13:47:51.086Z"
   },
   {
    "duration": 7,
    "start_time": "2023-08-07T13:47:51.095Z"
   },
   {
    "duration": 2074,
    "start_time": "2023-08-07T13:47:51.104Z"
   },
   {
    "duration": 11,
    "start_time": "2023-08-07T13:47:53.180Z"
   },
   {
    "duration": 33,
    "start_time": "2023-08-07T13:47:53.193Z"
   },
   {
    "duration": 1095089,
    "start_time": "2023-08-07T13:48:26.909Z"
   },
   {
    "duration": 1035,
    "start_time": "2023-08-07T14:07:33.196Z"
   },
   {
    "duration": 6,
    "start_time": "2023-08-07T14:07:43.245Z"
   },
   {
    "duration": 1277,
    "start_time": "2023-08-07T14:08:00.139Z"
   },
   {
    "duration": 5,
    "start_time": "2023-08-07T14:08:08.061Z"
   },
   {
    "duration": 655067,
    "start_time": "2023-08-07T14:09:20.574Z"
   },
   {
    "duration": 16,
    "start_time": "2023-08-07T14:23:41.926Z"
   },
   {
    "duration": 18,
    "start_time": "2023-08-07T14:23:58.457Z"
   },
   {
    "duration": 8,
    "start_time": "2023-08-07T14:26:16.067Z"
   },
   {
    "duration": 8,
    "start_time": "2023-08-07T14:27:29.778Z"
   },
   {
    "duration": 11,
    "start_time": "2023-08-07T14:32:54.063Z"
   },
   {
    "duration": 4,
    "start_time": "2023-08-07T14:38:41.348Z"
   },
   {
    "duration": 5,
    "start_time": "2023-08-07T14:41:24.332Z"
   },
   {
    "duration": 5,
    "start_time": "2023-08-07T14:41:42.358Z"
   },
   {
    "duration": 211,
    "start_time": "2023-08-07T14:55:24.686Z"
   },
   {
    "duration": 210,
    "start_time": "2023-08-07T14:55:32.713Z"
   },
   {
    "duration": 225,
    "start_time": "2023-08-07T14:55:40.236Z"
   },
   {
    "duration": 201,
    "start_time": "2023-08-07T14:55:49.150Z"
   },
   {
    "duration": 222,
    "start_time": "2023-08-07T14:55:57.172Z"
   },
   {
    "duration": 235,
    "start_time": "2023-08-07T14:56:04.683Z"
   },
   {
    "duration": 1929,
    "start_time": "2023-08-07T14:56:14.923Z"
   },
   {
    "duration": 44,
    "start_time": "2023-08-07T14:56:34.947Z"
   },
   {
    "duration": 127,
    "start_time": "2023-08-07T14:56:45.758Z"
   },
   {
    "duration": 3,
    "start_time": "2023-08-07T14:57:10.520Z"
   },
   {
    "duration": 42,
    "start_time": "2023-08-07T14:57:13.316Z"
   },
   {
    "duration": 8,
    "start_time": "2023-08-07T14:57:15.490Z"
   },
   {
    "duration": 194,
    "start_time": "2023-08-07T14:57:22.361Z"
   },
   {
    "duration": 3,
    "start_time": "2023-08-07T14:57:25.628Z"
   },
   {
    "duration": 11,
    "start_time": "2023-08-07T14:57:31.723Z"
   },
   {
    "duration": 4,
    "start_time": "2023-08-07T14:57:34.183Z"
   },
   {
    "duration": 7,
    "start_time": "2023-08-07T14:57:40.799Z"
   },
   {
    "duration": 243,
    "start_time": "2023-08-07T14:57:43.660Z"
   },
   {
    "duration": 284,
    "start_time": "2023-08-07T14:57:49.902Z"
   },
   {
    "duration": 262,
    "start_time": "2023-08-07T14:57:56.208Z"
   },
   {
    "duration": 8,
    "start_time": "2023-08-07T14:57:59.491Z"
   },
   {
    "duration": 216,
    "start_time": "2023-08-07T14:58:06.369Z"
   },
   {
    "duration": 232,
    "start_time": "2023-08-07T14:58:12.158Z"
   },
   {
    "duration": 223,
    "start_time": "2023-08-07T14:58:19.076Z"
   },
   {
    "duration": 459,
    "start_time": "2023-08-07T14:58:24.582Z"
   },
   {
    "duration": 1634,
    "start_time": "2023-08-07T19:14:49.405Z"
   },
   {
    "duration": 187,
    "start_time": "2023-08-07T19:14:52.057Z"
   },
   {
    "duration": 17,
    "start_time": "2023-08-07T19:14:56.454Z"
   },
   {
    "duration": 255,
    "start_time": "2023-08-07T19:15:02.595Z"
   },
   {
    "duration": 4,
    "start_time": "2023-08-07T19:15:06.091Z"
   },
   {
    "duration": 12,
    "start_time": "2023-08-07T19:15:13.111Z"
   },
   {
    "duration": 5,
    "start_time": "2023-08-07T19:15:20.882Z"
   },
   {
    "duration": 8,
    "start_time": "2023-08-07T19:15:23.561Z"
   },
   {
    "duration": 385,
    "start_time": "2023-08-07T19:15:25.745Z"
   },
   {
    "duration": 307,
    "start_time": "2023-08-07T19:15:33.165Z"
   },
   {
    "duration": 284,
    "start_time": "2023-08-07T19:15:39.860Z"
   },
   {
    "duration": 9,
    "start_time": "2023-08-07T19:15:47.179Z"
   },
   {
    "duration": 207,
    "start_time": "2023-08-07T19:15:49.455Z"
   },
   {
    "duration": 255,
    "start_time": "2023-08-07T19:15:55.231Z"
   },
   {
    "duration": 219,
    "start_time": "2023-08-07T19:16:03.029Z"
   },
   {
    "duration": 421,
    "start_time": "2023-08-07T19:16:10.691Z"
   },
   {
    "duration": 4,
    "start_time": "2023-08-07T19:16:18.254Z"
   },
   {
    "duration": 119,
    "start_time": "2023-08-07T19:16:21.560Z"
   },
   {
    "duration": 10,
    "start_time": "2023-08-07T19:16:56.824Z"
   },
   {
    "duration": 37,
    "start_time": "2023-08-07T19:18:02.652Z"
   },
   {
    "duration": 55,
    "start_time": "2023-08-07T19:19:45.051Z"
   },
   {
    "duration": 9,
    "start_time": "2023-08-07T19:20:03.589Z"
   },
   {
    "duration": 4,
    "start_time": "2023-08-07T19:20:06.271Z"
   },
   {
    "duration": 3,
    "start_time": "2023-08-07T19:20:18.255Z"
   },
   {
    "duration": 4,
    "start_time": "2023-08-07T19:31:03.338Z"
   },
   {
    "duration": 32130,
    "start_time": "2023-08-07T19:32:28.886Z"
   },
   {
    "duration": 98,
    "start_time": "2023-08-07T19:36:43.063Z"
   },
   {
    "duration": 550543,
    "start_time": "2023-08-07T19:39:06.959Z"
   },
   {
    "duration": 947240,
    "start_time": "2023-08-07T19:51:48.100Z"
   },
   {
    "duration": 10,
    "start_time": "2023-08-07T20:09:27.242Z"
   },
   {
    "duration": 7,
    "start_time": "2023-08-07T20:09:31.040Z"
   },
   {
    "duration": 1683,
    "start_time": "2023-08-07T20:09:45.377Z"
   },
   {
    "duration": 24,
    "start_time": "2023-08-07T20:09:53.839Z"
   },
   {
    "duration": 8,
    "start_time": "2023-08-07T20:11:03.571Z"
   },
   {
    "duration": 4,
    "start_time": "2023-08-07T20:11:06.469Z"
   },
   {
    "duration": 8,
    "start_time": "2023-08-07T20:11:17.590Z"
   },
   {
    "duration": 7,
    "start_time": "2023-08-07T20:11:31.000Z"
   },
   {
    "duration": 4,
    "start_time": "2023-08-07T20:11:33.334Z"
   },
   {
    "duration": 9,
    "start_time": "2023-08-07T20:13:29.730Z"
   },
   {
    "duration": 4,
    "start_time": "2023-08-07T20:13:34.561Z"
   },
   {
    "duration": 7,
    "start_time": "2023-08-07T20:16:10.243Z"
   },
   {
    "duration": 4,
    "start_time": "2023-08-07T20:16:13.801Z"
   },
   {
    "duration": 8,
    "start_time": "2023-08-07T20:17:09.626Z"
   },
   {
    "duration": 3,
    "start_time": "2023-08-07T20:17:12.759Z"
   },
   {
    "duration": 1894,
    "start_time": "2023-08-07T20:17:57.657Z"
   },
   {
    "duration": 13,
    "start_time": "2023-08-07T20:18:03.974Z"
   },
   {
    "duration": 17,
    "start_time": "2023-08-07T20:18:14.564Z"
   },
   {
    "duration": 6,
    "start_time": "2023-08-07T20:18:18.226Z"
   },
   {
    "duration": 781,
    "start_time": "2023-08-07T20:18:36.551Z"
   },
   {
    "duration": 7,
    "start_time": "2023-08-07T20:18:45.449Z"
   },
   {
    "duration": 5,
    "start_time": "2023-08-07T20:22:42.867Z"
   },
   {
    "duration": 5,
    "start_time": "2023-08-07T20:23:44.255Z"
   },
   {
    "duration": 7,
    "start_time": "2023-08-07T20:24:00.061Z"
   },
   {
    "duration": 4,
    "start_time": "2023-08-07T20:24:03.265Z"
   },
   {
    "duration": 7,
    "start_time": "2023-08-07T20:24:20.119Z"
   },
   {
    "duration": 7,
    "start_time": "2023-08-07T20:24:23.526Z"
   },
   {
    "duration": 4,
    "start_time": "2023-08-07T20:24:28.023Z"
   },
   {
    "duration": 11,
    "start_time": "2023-08-07T20:24:40.522Z"
   },
   {
    "duration": 14,
    "start_time": "2023-08-07T20:24:43.628Z"
   },
   {
    "duration": 1405,
    "start_time": "2023-08-07T20:24:53.118Z"
   },
   {
    "duration": 15,
    "start_time": "2023-08-07T20:24:57.821Z"
   },
   {
    "duration": 979,
    "start_time": "2023-08-07T20:25:15.971Z"
   },
   {
    "duration": 8,
    "start_time": "2023-08-07T20:25:23.728Z"
   },
   {
    "duration": 6,
    "start_time": "2023-08-07T20:25:53.376Z"
   },
   {
    "duration": 6,
    "start_time": "2023-08-07T20:25:55.858Z"
   },
   {
    "duration": 3,
    "start_time": "2023-08-07T20:25:59.075Z"
   },
   {
    "duration": 13,
    "start_time": "2023-08-07T20:26:11.867Z"
   },
   {
    "duration": 16,
    "start_time": "2023-08-07T20:26:14.696Z"
   },
   {
    "duration": 1822,
    "start_time": "2023-08-07T20:26:24.650Z"
   },
   {
    "duration": 11,
    "start_time": "2023-08-07T20:26:28.983Z"
   },
   {
    "duration": 1001,
    "start_time": "2023-08-07T20:26:39.830Z"
   },
   {
    "duration": 6,
    "start_time": "2023-08-07T20:26:50.639Z"
   },
   {
    "duration": 9,
    "start_time": "2023-08-07T20:27:09.622Z"
   },
   {
    "duration": 6,
    "start_time": "2023-08-07T20:27:12.675Z"
   },
   {
    "duration": 5,
    "start_time": "2023-08-07T20:27:16.567Z"
   },
   {
    "duration": 72,
    "start_time": "2023-08-07T20:27:23.835Z"
   },
   {
    "duration": 7,
    "start_time": "2023-08-07T20:27:26.464Z"
   },
   {
    "duration": 1060,
    "start_time": "2023-08-07T20:27:33.827Z"
   },
   {
    "duration": 18,
    "start_time": "2023-08-07T20:27:37.426Z"
   },
   {
    "duration": 861,
    "start_time": "2023-08-07T20:27:44.166Z"
   },
   {
    "duration": 7,
    "start_time": "2023-08-07T20:27:53.226Z"
   },
   {
    "duration": 639799,
    "start_time": "2023-08-07T20:28:04.334Z"
   },
   {
    "duration": 109,
    "start_time": "2023-08-07T20:39:46.620Z"
   },
   {
    "duration": 10,
    "start_time": "2023-08-07T20:40:43.975Z"
   },
   {
    "duration": 9,
    "start_time": "2023-08-07T20:41:43.119Z"
   },
   {
    "duration": 5,
    "start_time": "2023-08-07T20:42:24.346Z"
   },
   {
    "duration": 7,
    "start_time": "2023-08-07T20:42:27.470Z"
   },
   {
    "duration": 4,
    "start_time": "2023-08-07T20:42:35.376Z"
   },
   {
    "duration": 7,
    "start_time": "2023-08-07T20:42:49.737Z"
   },
   {
    "duration": 7,
    "start_time": "2023-08-07T20:42:52.234Z"
   },
   {
    "duration": 4,
    "start_time": "2023-08-07T20:42:54.638Z"
   },
   {
    "duration": 8,
    "start_time": "2023-08-07T20:43:06.428Z"
   },
   {
    "duration": 6,
    "start_time": "2023-08-07T20:43:08.662Z"
   },
   {
    "duration": 4,
    "start_time": "2023-08-07T20:43:10.983Z"
   },
   {
    "duration": 5,
    "start_time": "2023-08-07T20:43:20.937Z"
   },
   {
    "duration": 6,
    "start_time": "2023-08-07T20:43:23.163Z"
   },
   {
    "duration": 5,
    "start_time": "2023-08-07T20:43:25.327Z"
   },
   {
    "duration": 6,
    "start_time": "2023-08-07T20:43:33.427Z"
   },
   {
    "duration": 5,
    "start_time": "2023-08-07T20:43:35.672Z"
   },
   {
    "duration": 5,
    "start_time": "2023-08-07T20:43:38.226Z"
   },
   {
    "duration": 6,
    "start_time": "2023-08-07T20:43:53.141Z"
   },
   {
    "duration": 5,
    "start_time": "2023-08-07T20:43:55.359Z"
   },
   {
    "duration": 7,
    "start_time": "2023-08-07T20:43:58.422Z"
   },
   {
    "duration": 1605,
    "start_time": "2023-08-07T20:44:13.675Z"
   },
   {
    "duration": 11,
    "start_time": "2023-08-07T20:44:21.670Z"
   },
   {
    "duration": 2489,
    "start_time": "2023-08-07T20:44:30.863Z"
   },
   {
    "duration": 12,
    "start_time": "2023-08-07T20:44:40.128Z"
   },
   {
    "duration": 8,
    "start_time": "2023-08-07T20:44:48.677Z"
   },
   {
    "duration": 1256647,
    "start_time": "2023-08-07T20:45:37.375Z"
   },
   {
    "duration": 88,
    "start_time": "2023-08-07T21:08:03.329Z"
   },
   {
    "duration": 8,
    "start_time": "2023-08-07T21:08:44.675Z"
   },
   {
    "duration": 31023,
    "start_time": "2023-08-07T21:09:27.719Z"
   },
   {
    "duration": 1122,
    "start_time": "2023-08-07T21:10:14.719Z"
   },
   {
    "duration": 11,
    "start_time": "2023-08-07T21:10:51.818Z"
   },
   {
    "duration": 6,
    "start_time": "2023-08-07T21:11:31.554Z"
   },
   {
    "duration": 6,
    "start_time": "2023-08-07T21:11:36.571Z"
   },
   {
    "duration": 7,
    "start_time": "2023-08-07T21:11:43.234Z"
   },
   {
    "duration": 10,
    "start_time": "2023-08-07T21:11:52.670Z"
   },
   {
    "duration": 66,
    "start_time": "2023-08-07T21:11:56.058Z"
   },
   {
    "duration": 29275,
    "start_time": "2023-08-07T21:12:25.721Z"
   },
   {
    "duration": 1358,
    "start_time": "2023-08-07T21:13:08.599Z"
   },
   {
    "duration": 30,
    "start_time": "2023-08-07T21:13:17.007Z"
   },
   {
    "duration": 1004845,
    "start_time": "2023-08-07T21:13:47.026Z"
   },
   {
    "duration": 981,
    "start_time": "2023-08-07T21:30:39.741Z"
   },
   {
    "duration": 7,
    "start_time": "2023-08-07T21:30:47.242Z"
   },
   {
    "duration": 7,
    "start_time": "2023-08-07T21:31:04.119Z"
   },
   {
    "duration": 7,
    "start_time": "2023-08-07T21:31:28.323Z"
   },
   {
    "duration": 8,
    "start_time": "2023-08-07T21:31:31.597Z"
   },
   {
    "duration": 5,
    "start_time": "2023-08-07T21:31:35.916Z"
   },
   {
    "duration": 24,
    "start_time": "2023-08-07T21:31:42.792Z"
   },
   {
    "duration": 10,
    "start_time": "2023-08-07T21:31:45.462Z"
   },
   {
    "duration": 1104,
    "start_time": "2023-08-07T21:31:55.615Z"
   },
   {
    "duration": 15,
    "start_time": "2023-08-07T21:31:58.741Z"
   },
   {
    "duration": 1065,
    "start_time": "2023-08-07T21:32:28.891Z"
   },
   {
    "duration": 7,
    "start_time": "2023-08-07T21:32:36.986Z"
   },
   {
    "duration": 6,
    "start_time": "2023-08-07T21:32:47.790Z"
   },
   {
    "duration": 17,
    "start_time": "2023-08-07T21:33:18.338Z"
   },
   {
    "duration": 250757,
    "start_time": "2023-08-07T21:33:41.218Z"
   },
   {
    "duration": 70,
    "start_time": "2023-08-07T21:38:19.717Z"
   },
   {
    "duration": 71,
    "start_time": "2023-08-07T21:38:30.222Z"
   },
   {
    "duration": 6,
    "start_time": "2023-08-07T21:38:37.459Z"
   },
   {
    "duration": 12,
    "start_time": "2023-08-07T21:38:39.998Z"
   },
   {
    "duration": 4,
    "start_time": "2023-08-07T21:38:42.761Z"
   },
   {
    "duration": 260,
    "start_time": "2023-08-07T21:38:51.417Z"
   },
   {
    "duration": 98,
    "start_time": "2023-08-07T21:38:54.608Z"
   },
   {
    "duration": 1038,
    "start_time": "2023-08-07T21:39:03.924Z"
   },
   {
    "duration": 29,
    "start_time": "2023-08-07T21:39:07.694Z"
   },
   {
    "duration": 23677,
    "start_time": "2023-08-07T21:39:49.558Z"
   },
   {
    "duration": 1559,
    "start_time": "2023-08-07T21:40:26.121Z"
   },
   {
    "duration": 10,
    "start_time": "2023-08-07T21:40:33.644Z"
   },
   {
    "duration": 7,
    "start_time": "2023-08-07T21:40:45.065Z"
   },
   {
    "duration": 7,
    "start_time": "2023-08-07T21:41:14.364Z"
   },
   {
    "duration": 7,
    "start_time": "2023-08-07T21:41:17.327Z"
   },
   {
    "duration": 18,
    "start_time": "2023-08-07T21:41:19.832Z"
   },
   {
    "duration": 43,
    "start_time": "2023-08-07T21:41:27.455Z"
   },
   {
    "duration": 20,
    "start_time": "2023-08-07T21:41:30.040Z"
   },
   {
    "duration": 1631,
    "start_time": "2023-08-07T21:41:38.180Z"
   },
   {
    "duration": 19,
    "start_time": "2023-08-07T21:41:41.816Z"
   },
   {
    "duration": 1583,
    "start_time": "2023-08-07T21:41:52.022Z"
   },
   {
    "duration": 27,
    "start_time": "2023-08-07T21:41:58.698Z"
   },
   {
    "duration": 23,
    "start_time": "2023-08-07T21:42:06.523Z"
   },
   {
    "duration": 17,
    "start_time": "2023-08-07T21:42:12.701Z"
   },
   {
    "duration": 81,
    "start_time": "2023-08-07T21:42:18.396Z"
   },
   {
    "duration": 91,
    "start_time": "2023-08-07T21:42:51.096Z"
   },
   {
    "duration": 44,
    "start_time": "2023-08-07T21:42:56.872Z"
   },
   {
    "duration": 8,
    "start_time": "2023-08-07T21:43:03.948Z"
   },
   {
    "duration": 8,
    "start_time": "2023-08-07T21:43:06.241Z"
   },
   {
    "duration": 6,
    "start_time": "2023-08-07T21:43:08.714Z"
   },
   {
    "duration": 63,
    "start_time": "2023-08-07T21:43:16.440Z"
   },
   {
    "duration": 11,
    "start_time": "2023-08-07T21:43:19.139Z"
   },
   {
    "duration": 59,
    "start_time": "2023-08-07T21:43:32.720Z"
   },
   {
    "duration": 65,
    "start_time": "2023-08-07T21:43:40.116Z"
   },
   {
    "duration": 6,
    "start_time": "2023-08-07T21:43:47.152Z"
   },
   {
    "duration": 8,
    "start_time": "2023-08-07T21:43:49.548Z"
   },
   {
    "duration": 4,
    "start_time": "2023-08-07T21:43:52.179Z"
   },
   {
    "duration": 71,
    "start_time": "2023-08-07T21:43:59.596Z"
   },
   {
    "duration": 19,
    "start_time": "2023-08-07T21:44:01.998Z"
   },
   {
    "duration": 1893,
    "start_time": "2023-08-07T21:44:14.021Z"
   },
   {
    "duration": 19,
    "start_time": "2023-08-07T21:44:17.857Z"
   },
   {
    "duration": 6,
    "start_time": "2023-08-07T21:44:55.598Z"
   },
   {
    "duration": 48,
    "start_time": "2023-08-07T21:45:04.763Z"
   },
   {
    "duration": 45,
    "start_time": "2023-08-07T21:45:12.568Z"
   },
   {
    "duration": 6,
    "start_time": "2023-08-07T21:45:19.259Z"
   },
   {
    "duration": 17,
    "start_time": "2023-08-07T21:45:21.520Z"
   },
   {
    "duration": 6,
    "start_time": "2023-08-07T21:45:24.525Z"
   },
   {
    "duration": 11,
    "start_time": "2023-08-07T21:45:31.360Z"
   },
   {
    "duration": 14,
    "start_time": "2023-08-07T21:45:33.762Z"
   },
   {
    "duration": 1432,
    "start_time": "2023-08-07T21:45:42.697Z"
   },
   {
    "duration": 24,
    "start_time": "2023-08-07T21:45:47.121Z"
   },
   {
    "duration": 1242,
    "start_time": "2023-08-07T21:45:55.899Z"
   },
   {
    "duration": 7,
    "start_time": "2023-08-07T21:46:03.235Z"
   },
   {
    "duration": 8,
    "start_time": "2023-08-07T21:46:15.589Z"
   },
   {
    "duration": 11,
    "start_time": "2023-08-07T21:46:21.325Z"
   },
   {
    "duration": 7,
    "start_time": "2023-08-07T21:46:27.260Z"
   },
   {
    "duration": 18,
    "start_time": "2023-08-07T21:46:40.495Z"
   },
   {
    "duration": 5,
    "start_time": "2023-08-07T21:51:25.332Z"
   },
   {
    "duration": 7,
    "start_time": "2023-08-07T21:52:44.336Z"
   },
   {
    "duration": 4,
    "start_time": "2023-08-07T21:52:46.824Z"
   },
   {
    "duration": 11,
    "start_time": "2023-08-07T21:54:27.831Z"
   },
   {
    "duration": 3,
    "start_time": "2023-08-07T21:55:32.744Z"
   },
   {
    "duration": 5,
    "start_time": "2023-08-07T21:59:23.122Z"
   },
   {
    "duration": 199,
    "start_time": "2023-08-07T21:59:46.122Z"
   },
   {
    "duration": 3,
    "start_time": "2023-08-07T22:00:10.726Z"
   },
   {
    "duration": 586,
    "start_time": "2023-08-07T22:00:13.666Z"
   },
   {
    "duration": 323,
    "start_time": "2023-08-07T22:00:31.499Z"
   },
   {
    "duration": 146,
    "start_time": "2023-08-07T22:03:28.063Z"
   },
   {
    "duration": 69526,
    "start_time": "2023-08-07T22:03:42.627Z"
   },
   {
    "duration": 30,
    "start_time": "2023-08-07T22:07:01.122Z"
   },
   {
    "duration": 123,
    "start_time": "2023-08-07T22:07:56.317Z"
   },
   {
    "duration": 170,
    "start_time": "2023-08-07T22:08:32.224Z"
   },
   {
    "duration": 3,
    "start_time": "2023-08-07T22:13:50.349Z"
   },
   {
    "duration": 72,
    "start_time": "2023-08-07T22:14:59.040Z"
   },
   {
    "duration": 1872,
    "start_time": "2023-08-07T22:18:58.451Z"
   },
   {
    "duration": 1151,
    "start_time": "2023-08-07T22:19:57.932Z"
   },
   {
    "duration": 348122,
    "start_time": "2023-08-07T22:20:41.327Z"
   },
   {
    "duration": 192,
    "start_time": "2023-08-07T22:27:22.725Z"
   },
   {
    "duration": 1029,
    "start_time": "2023-08-07T22:27:31.570Z"
   },
   {
    "duration": 72701,
    "start_time": "2023-08-07T22:30:09.725Z"
   },
   {
    "duration": 17,
    "start_time": "2023-08-07T22:31:54.129Z"
   },
   {
    "duration": 135,
    "start_time": "2023-08-07T22:33:48.497Z"
   },
   {
    "duration": 1878,
    "start_time": "2023-08-08T04:39:36.542Z"
   },
   {
    "duration": 165,
    "start_time": "2023-08-08T04:39:38.422Z"
   },
   {
    "duration": 12,
    "start_time": "2023-08-08T04:39:38.589Z"
   },
   {
    "duration": 263,
    "start_time": "2023-08-08T04:39:38.603Z"
   },
   {
    "duration": 5,
    "start_time": "2023-08-08T04:39:38.868Z"
   },
   {
    "duration": 40,
    "start_time": "2023-08-08T04:39:38.875Z"
   },
   {
    "duration": 13,
    "start_time": "2023-08-08T04:39:38.918Z"
   },
   {
    "duration": 19,
    "start_time": "2023-08-08T04:39:38.933Z"
   },
   {
    "duration": 419,
    "start_time": "2023-08-08T04:39:38.954Z"
   },
   {
    "duration": 327,
    "start_time": "2023-08-08T04:39:39.377Z"
   },
   {
    "duration": 304,
    "start_time": "2023-08-08T04:39:39.706Z"
   },
   {
    "duration": 12,
    "start_time": "2023-08-08T04:39:40.012Z"
   },
   {
    "duration": 243,
    "start_time": "2023-08-08T04:39:40.026Z"
   },
   {
    "duration": 262,
    "start_time": "2023-08-08T04:39:40.270Z"
   },
   {
    "duration": 250,
    "start_time": "2023-08-08T04:39:40.534Z"
   },
   {
    "duration": 508,
    "start_time": "2023-08-08T04:39:40.786Z"
   },
   {
    "duration": 5,
    "start_time": "2023-08-08T04:39:41.296Z"
   },
   {
    "duration": 82,
    "start_time": "2023-08-08T04:39:41.303Z"
   },
   {
    "duration": 34,
    "start_time": "2023-08-08T04:39:41.387Z"
   },
   {
    "duration": 8,
    "start_time": "2023-08-08T04:39:41.424Z"
   },
   {
    "duration": 27,
    "start_time": "2023-08-08T04:39:41.434Z"
   },
   {
    "duration": 121,
    "start_time": "2023-08-08T04:39:41.463Z"
   },
   {
    "duration": 0,
    "start_time": "2023-08-08T04:39:41.586Z"
   },
   {
    "duration": 0,
    "start_time": "2023-08-08T04:39:41.587Z"
   },
   {
    "duration": 0,
    "start_time": "2023-08-08T04:39:41.589Z"
   },
   {
    "duration": 0,
    "start_time": "2023-08-08T04:39:41.590Z"
   },
   {
    "duration": 0,
    "start_time": "2023-08-08T04:39:41.591Z"
   },
   {
    "duration": 0,
    "start_time": "2023-08-08T04:39:41.592Z"
   },
   {
    "duration": 0,
    "start_time": "2023-08-08T04:39:41.593Z"
   },
   {
    "duration": 0,
    "start_time": "2023-08-08T04:39:41.595Z"
   },
   {
    "duration": 0,
    "start_time": "2023-08-08T04:39:41.596Z"
   },
   {
    "duration": 0,
    "start_time": "2023-08-08T04:39:41.598Z"
   },
   {
    "duration": 1487,
    "start_time": "2023-08-08T04:40:36.384Z"
   },
   {
    "duration": 48,
    "start_time": "2023-08-08T04:40:37.873Z"
   },
   {
    "duration": 13,
    "start_time": "2023-08-08T04:40:37.923Z"
   },
   {
    "duration": 255,
    "start_time": "2023-08-08T04:40:37.938Z"
   },
   {
    "duration": 4,
    "start_time": "2023-08-08T04:40:38.195Z"
   },
   {
    "duration": 16,
    "start_time": "2023-08-08T04:40:38.200Z"
   },
   {
    "duration": 4,
    "start_time": "2023-08-08T04:40:38.218Z"
   },
   {
    "duration": 11,
    "start_time": "2023-08-08T04:40:38.223Z"
   },
   {
    "duration": 429,
    "start_time": "2023-08-08T04:40:38.236Z"
   },
   {
    "duration": 341,
    "start_time": "2023-08-08T04:40:38.668Z"
   },
   {
    "duration": 314,
    "start_time": "2023-08-08T04:40:39.011Z"
   },
   {
    "duration": 11,
    "start_time": "2023-08-08T04:40:39.327Z"
   },
   {
    "duration": 253,
    "start_time": "2023-08-08T04:40:39.340Z"
   },
   {
    "duration": 252,
    "start_time": "2023-08-08T04:40:39.596Z"
   },
   {
    "duration": 1659,
    "start_time": "2023-08-08T04:48:03.644Z"
   },
   {
    "duration": 54,
    "start_time": "2023-08-08T04:48:05.305Z"
   },
   {
    "duration": 13,
    "start_time": "2023-08-08T04:48:05.362Z"
   },
   {
    "duration": 252,
    "start_time": "2023-08-08T04:48:05.377Z"
   },
   {
    "duration": 3,
    "start_time": "2023-08-08T04:48:05.631Z"
   },
   {
    "duration": 24,
    "start_time": "2023-08-08T04:48:05.636Z"
   },
   {
    "duration": 4,
    "start_time": "2023-08-08T04:48:05.662Z"
   },
   {
    "duration": 9,
    "start_time": "2023-08-08T04:48:05.668Z"
   },
   {
    "duration": 424,
    "start_time": "2023-08-08T04:48:05.679Z"
   },
   {
    "duration": 339,
    "start_time": "2023-08-08T04:48:06.106Z"
   },
   {
    "duration": 305,
    "start_time": "2023-08-08T04:48:06.447Z"
   },
   {
    "duration": 11,
    "start_time": "2023-08-08T04:48:06.758Z"
   },
   {
    "duration": 237,
    "start_time": "2023-08-08T04:48:06.770Z"
   },
   {
    "duration": 264,
    "start_time": "2023-08-08T04:48:07.008Z"
   },
   {
    "duration": 253,
    "start_time": "2023-08-08T04:48:07.274Z"
   },
   {
    "duration": 472,
    "start_time": "2023-08-08T04:48:07.529Z"
   },
   {
    "duration": 4,
    "start_time": "2023-08-08T04:48:08.002Z"
   },
   {
    "duration": 68,
    "start_time": "2023-08-08T04:48:08.007Z"
   },
   {
    "duration": 35,
    "start_time": "2023-08-08T04:48:08.077Z"
   },
   {
    "duration": 7,
    "start_time": "2023-08-08T04:48:08.113Z"
   },
   {
    "duration": 7,
    "start_time": "2023-08-08T04:48:08.121Z"
   },
   {
    "duration": 3,
    "start_time": "2023-08-08T04:48:08.129Z"
   },
   {
    "duration": 1027,
    "start_time": "2023-08-08T04:48:08.134Z"
   },
   {
    "duration": 260,
    "start_time": "2023-08-08T04:48:09.163Z"
   },
   {
    "duration": 114,
    "start_time": "2023-08-08T04:48:09.424Z"
   },
   {
    "duration": 117,
    "start_time": "2023-08-08T04:48:09.539Z"
   },
   {
    "duration": 131,
    "start_time": "2023-08-08T04:48:09.658Z"
   },
   {
    "duration": 115,
    "start_time": "2023-08-08T04:48:09.791Z"
   },
   {
    "duration": 129,
    "start_time": "2023-08-08T04:48:09.908Z"
   },
   {
    "duration": 11,
    "start_time": "2023-08-08T04:48:10.039Z"
   },
   {
    "duration": 140,
    "start_time": "2023-08-08T04:48:10.051Z"
   },
   {
    "duration": 118,
    "start_time": "2023-08-08T04:48:10.192Z"
   },
   {
    "duration": 4,
    "start_time": "2023-08-08T04:48:41.112Z"
   },
   {
    "duration": 1470,
    "start_time": "2023-08-08T04:52:08.798Z"
   },
   {
    "duration": 49,
    "start_time": "2023-08-08T04:52:10.270Z"
   },
   {
    "duration": 12,
    "start_time": "2023-08-08T04:52:10.323Z"
   },
   {
    "duration": 268,
    "start_time": "2023-08-08T04:52:10.337Z"
   },
   {
    "duration": 3,
    "start_time": "2023-08-08T04:52:10.607Z"
   },
   {
    "duration": 15,
    "start_time": "2023-08-08T04:52:10.612Z"
   },
   {
    "duration": 5,
    "start_time": "2023-08-08T04:52:10.628Z"
   },
   {
    "duration": 29,
    "start_time": "2023-08-08T04:52:10.634Z"
   },
   {
    "duration": 299,
    "start_time": "2023-08-08T04:52:10.758Z"
   },
   {
    "duration": 332,
    "start_time": "2023-08-08T04:52:11.058Z"
   },
   {
    "duration": 302,
    "start_time": "2023-08-08T04:52:11.392Z"
   },
   {
    "duration": 12,
    "start_time": "2023-08-08T04:52:11.696Z"
   },
   {
    "duration": 248,
    "start_time": "2023-08-08T04:52:11.709Z"
   },
   {
    "duration": 254,
    "start_time": "2023-08-08T04:52:11.967Z"
   },
   {
    "duration": 244,
    "start_time": "2023-08-08T04:52:12.223Z"
   },
   {
    "duration": 485,
    "start_time": "2023-08-08T04:52:12.469Z"
   },
   {
    "duration": 5,
    "start_time": "2023-08-08T04:52:12.959Z"
   },
   {
    "duration": 63,
    "start_time": "2023-08-08T04:52:12.966Z"
   },
   {
    "duration": 46,
    "start_time": "2023-08-08T04:52:13.031Z"
   },
   {
    "duration": 9,
    "start_time": "2023-08-08T04:52:13.079Z"
   },
   {
    "duration": 17,
    "start_time": "2023-08-08T04:52:13.090Z"
   },
   {
    "duration": 13,
    "start_time": "2023-08-08T04:52:13.110Z"
   },
   {
    "duration": 741,
    "start_time": "2023-08-08T04:52:13.125Z"
   },
   {
    "duration": 43957,
    "start_time": "2023-08-08T04:52:13.868Z"
   },
   {
    "duration": 38,
    "start_time": "2023-08-08T04:52:57.827Z"
   },
   {
    "duration": 170,
    "start_time": "2023-08-08T04:52:57.866Z"
   },
   {
    "duration": 117,
    "start_time": "2023-08-08T04:52:58.039Z"
   },
   {
    "duration": 1110129,
    "start_time": "2023-08-08T04:52:58.158Z"
   },
   {
    "duration": 9,
    "start_time": "2023-08-08T05:11:28.289Z"
   },
   {
    "duration": 14,
    "start_time": "2023-08-08T05:11:28.300Z"
   },
   {
    "duration": 14,
    "start_time": "2023-08-08T05:11:28.317Z"
   },
   {
    "duration": 121,
    "start_time": "2023-08-08T05:11:28.333Z"
   },
   {
    "duration": 46928,
    "start_time": "2023-08-08T05:11:28.457Z"
   },
   {
    "duration": 134670,
    "start_time": "2023-08-08T05:14:48.812Z"
   },
   {
    "duration": 52,
    "start_time": "2023-08-08T05:18:33.711Z"
   },
   {
    "duration": 60266,
    "start_time": "2023-08-08T05:18:41.996Z"
   },
   {
    "duration": 53,
    "start_time": "2023-08-08T05:21:54.912Z"
   },
   {
    "duration": 1110405,
    "start_time": "2023-08-08T05:22:04.024Z"
   },
   {
    "duration": 94,
    "start_time": "2023-08-08T05:41:19.968Z"
   },
   {
    "duration": 1254,
    "start_time": "2023-08-08T05:41:23.879Z"
   },
   {
    "duration": 1142,
    "start_time": "2023-08-08T05:41:46.142Z"
   },
   {
    "duration": 1221,
    "start_time": "2023-08-08T05:42:01.494Z"
   },
   {
    "duration": 3029,
    "start_time": "2023-08-08T05:42:11.578Z"
   },
   {
    "duration": 4711,
    "start_time": "2023-08-08T05:42:25.849Z"
   },
   {
    "duration": 14718,
    "start_time": "2023-08-08T05:43:02.248Z"
   },
   {
    "duration": 2974,
    "start_time": "2023-08-08T05:43:16.968Z"
   },
   {
    "duration": 8,
    "start_time": "2023-08-08T05:45:11.066Z"
   },
   {
    "duration": 9,
    "start_time": "2023-08-08T05:45:23.545Z"
   }
  ],
  "kernelspec": {
   "display_name": "Python 3 (ipykernel)",
   "language": "python",
   "name": "python3"
  },
  "language_info": {
   "codemirror_mode": {
    "name": "ipython",
    "version": 3
   },
   "file_extension": ".py",
   "mimetype": "text/x-python",
   "name": "python",
   "nbconvert_exporter": "python",
   "pygments_lexer": "ipython3",
   "version": "3.9.5"
  },
  "toc": {
   "base_numbering": 1,
   "nav_menu": {},
   "number_sections": true,
   "sideBar": true,
   "skip_h1_title": true,
   "title_cell": "Содержание",
   "title_sidebar": "Contents",
   "toc_cell": true,
   "toc_position": {},
   "toc_section_display": true,
   "toc_window_display": false
  }
 },
 "nbformat": 4,
 "nbformat_minor": 2
}
